{
 "cells": [
  {
   "cell_type": "code",
   "execution_count": 2,
   "metadata": {},
   "outputs": [],
   "source": [
    "import pandas as pd\n",
    "import asyncpg"
   ]
  },
  {
   "cell_type": "code",
   "execution_count": null,
   "metadata": {},
   "outputs": [],
   "source": [
    "from sqlalchemy import create_engine\n",
    "# 접속 정보\n",
    "host = \"10.28.224.177\"\n",
    "port = 30634\n",
    "database = \"postgres\"\n",
    "username = \"postgres\"\n",
    "password = \"0104\"\n",
    "\n",
    "# SQLAlchemy 엔진 생성\n",
    "engine = create_engine(f\"postgresql+psycopg2://{username}:{password}@{host}:{port}/{database}\")\n",
    "\n",
    "query = f'SELECT * FROM public.\"Comments\"'\n",
    "comments_df = pd.read_sql(query, engine)"
   ]
  },
  {
   "cell_type": "code",
   "execution_count": 162,
   "metadata": {},
   "outputs": [
    {
     "name": "stdout",
     "output_type": "stream",
     "text": [
      "   adsviewcount  adslikecount\n",
      "0    26649946.0      400584.0\n"
     ]
    },
    {
     "ename": "KeyError",
     "evalue": "'avg_Donation'",
     "output_type": "error",
     "traceback": [
      "\u001b[0;31m---------------------------------------------------------------------------\u001b[0m",
      "\u001b[0;31mKeyError\u001b[0m                                  Traceback (most recent call last)",
      "File \u001b[0;32m~/hwk_workspace/.venv/lib/python3.10/site-packages/pandas/core/indexes/base.py:3805\u001b[0m, in \u001b[0;36mIndex.get_loc\u001b[0;34m(self, key)\u001b[0m\n\u001b[1;32m   3804\u001b[0m \u001b[38;5;28;01mtry\u001b[39;00m:\n\u001b[0;32m-> 3805\u001b[0m     \u001b[38;5;28;01mreturn\u001b[39;00m \u001b[38;5;28;43mself\u001b[39;49m\u001b[38;5;241;43m.\u001b[39;49m\u001b[43m_engine\u001b[49m\u001b[38;5;241;43m.\u001b[39;49m\u001b[43mget_loc\u001b[49m\u001b[43m(\u001b[49m\u001b[43mcasted_key\u001b[49m\u001b[43m)\u001b[49m\n\u001b[1;32m   3806\u001b[0m \u001b[38;5;28;01mexcept\u001b[39;00m \u001b[38;5;167;01mKeyError\u001b[39;00m \u001b[38;5;28;01mas\u001b[39;00m err:\n",
      "File \u001b[0;32mindex.pyx:167\u001b[0m, in \u001b[0;36mpandas._libs.index.IndexEngine.get_loc\u001b[0;34m()\u001b[0m\n",
      "File \u001b[0;32mindex.pyx:196\u001b[0m, in \u001b[0;36mpandas._libs.index.IndexEngine.get_loc\u001b[0;34m()\u001b[0m\n",
      "File \u001b[0;32mpandas/_libs/hashtable_class_helper.pxi:7081\u001b[0m, in \u001b[0;36mpandas._libs.hashtable.PyObjectHashTable.get_item\u001b[0;34m()\u001b[0m\n",
      "File \u001b[0;32mpandas/_libs/hashtable_class_helper.pxi:7089\u001b[0m, in \u001b[0;36mpandas._libs.hashtable.PyObjectHashTable.get_item\u001b[0;34m()\u001b[0m\n",
      "\u001b[0;31mKeyError\u001b[0m: 'avg_Donation'",
      "\nThe above exception was the direct cause of the following exception:\n",
      "\u001b[0;31mKeyError\u001b[0m                                  Traceback (most recent call last)",
      "Cell \u001b[0;32mIn[162], line 22\u001b[0m\n\u001b[1;32m     19\u001b[0m \u001b[38;5;28mprint\u001b[39m(df)\n\u001b[1;32m     20\u001b[0m \u001b[38;5;66;03m#print(len(df))\u001b[39;00m\n\u001b[1;32m     21\u001b[0m \u001b[38;5;66;03m#print(df.columns)\u001b[39;00m\n\u001b[0;32m---> 22\u001b[0m \u001b[38;5;28mprint\u001b[39m(\u001b[43mdf\u001b[49m\u001b[43m[\u001b[49m\u001b[38;5;124;43m'\u001b[39;49m\u001b[38;5;124;43mavg_Donation\u001b[39;49m\u001b[38;5;124;43m'\u001b[39;49m\u001b[43m]\u001b[49m)\n\u001b[1;32m     23\u001b[0m \u001b[38;5;28mprint\u001b[39m(\u001b[38;5;28mtype\u001b[39m(df\u001b[38;5;241m.\u001b[39miloc[\u001b[38;5;241m0\u001b[39m][\u001b[38;5;124m'\u001b[39m\u001b[38;5;124mchannel_id\u001b[39m\u001b[38;5;124m'\u001b[39m]))\n\u001b[1;32m     24\u001b[0m \u001b[38;5;28mprint\u001b[39m(\u001b[38;5;124m'\u001b[39m\u001b[38;5;124m-------------------------------------------------\u001b[39m\u001b[38;5;124m'\u001b[39m)\n",
      "File \u001b[0;32m~/hwk_workspace/.venv/lib/python3.10/site-packages/pandas/core/frame.py:4102\u001b[0m, in \u001b[0;36mDataFrame.__getitem__\u001b[0;34m(self, key)\u001b[0m\n\u001b[1;32m   4100\u001b[0m \u001b[38;5;28;01mif\u001b[39;00m \u001b[38;5;28mself\u001b[39m\u001b[38;5;241m.\u001b[39mcolumns\u001b[38;5;241m.\u001b[39mnlevels \u001b[38;5;241m>\u001b[39m \u001b[38;5;241m1\u001b[39m:\n\u001b[1;32m   4101\u001b[0m     \u001b[38;5;28;01mreturn\u001b[39;00m \u001b[38;5;28mself\u001b[39m\u001b[38;5;241m.\u001b[39m_getitem_multilevel(key)\n\u001b[0;32m-> 4102\u001b[0m indexer \u001b[38;5;241m=\u001b[39m \u001b[38;5;28;43mself\u001b[39;49m\u001b[38;5;241;43m.\u001b[39;49m\u001b[43mcolumns\u001b[49m\u001b[38;5;241;43m.\u001b[39;49m\u001b[43mget_loc\u001b[49m\u001b[43m(\u001b[49m\u001b[43mkey\u001b[49m\u001b[43m)\u001b[49m\n\u001b[1;32m   4103\u001b[0m \u001b[38;5;28;01mif\u001b[39;00m is_integer(indexer):\n\u001b[1;32m   4104\u001b[0m     indexer \u001b[38;5;241m=\u001b[39m [indexer]\n",
      "File \u001b[0;32m~/hwk_workspace/.venv/lib/python3.10/site-packages/pandas/core/indexes/base.py:3812\u001b[0m, in \u001b[0;36mIndex.get_loc\u001b[0;34m(self, key)\u001b[0m\n\u001b[1;32m   3807\u001b[0m     \u001b[38;5;28;01mif\u001b[39;00m \u001b[38;5;28misinstance\u001b[39m(casted_key, \u001b[38;5;28mslice\u001b[39m) \u001b[38;5;129;01mor\u001b[39;00m (\n\u001b[1;32m   3808\u001b[0m         \u001b[38;5;28misinstance\u001b[39m(casted_key, abc\u001b[38;5;241m.\u001b[39mIterable)\n\u001b[1;32m   3809\u001b[0m         \u001b[38;5;129;01mand\u001b[39;00m \u001b[38;5;28many\u001b[39m(\u001b[38;5;28misinstance\u001b[39m(x, \u001b[38;5;28mslice\u001b[39m) \u001b[38;5;28;01mfor\u001b[39;00m x \u001b[38;5;129;01min\u001b[39;00m casted_key)\n\u001b[1;32m   3810\u001b[0m     ):\n\u001b[1;32m   3811\u001b[0m         \u001b[38;5;28;01mraise\u001b[39;00m InvalidIndexError(key)\n\u001b[0;32m-> 3812\u001b[0m     \u001b[38;5;28;01mraise\u001b[39;00m \u001b[38;5;167;01mKeyError\u001b[39;00m(key) \u001b[38;5;28;01mfrom\u001b[39;00m\u001b[38;5;250m \u001b[39m\u001b[38;5;21;01merr\u001b[39;00m\n\u001b[1;32m   3813\u001b[0m \u001b[38;5;28;01mexcept\u001b[39;00m \u001b[38;5;167;01mTypeError\u001b[39;00m:\n\u001b[1;32m   3814\u001b[0m     \u001b[38;5;66;03m# If we have a listlike key, _check_indexing_error will raise\u001b[39;00m\n\u001b[1;32m   3815\u001b[0m     \u001b[38;5;66;03m#  InvalidIndexError. Otherwise we fall through and re-raise\u001b[39;00m\n\u001b[1;32m   3816\u001b[0m     \u001b[38;5;66;03m#  the TypeError.\u001b[39;00m\n\u001b[1;32m   3817\u001b[0m     \u001b[38;5;28mself\u001b[39m\u001b[38;5;241m.\u001b[39m_check_indexing_error(key)\n",
      "\u001b[0;31mKeyError\u001b[0m: 'avg_Donation'"
     ]
    }
   ],
   "source": [
    "# db 접속하기\n",
    "conn = await asyncpg.connect(\n",
    "    \t\thost=\"10.28.224.177\",\n",
    "            port=\"30634\",  \n",
    "            user=\"postgres\",\n",
    "            password=\"0104\",\n",
    "            database=\"postgres\"\n",
    "            )\n",
    "query = f\"\"\"\n",
    "        SELECT \n",
    "                SUM(CASE WHEN \"hasPaidProductPlacement\" = true THEN CAST(\"videoViewCount\" AS FLOAT) ELSE 0 END) AS adsviewcount,\n",
    "                SUM(CASE WHEN \"hasPaidProductPlacement\" = true THEN CAST(\"videoLikeCount\" AS FLOAT) ELSE 0 END) AS adslikecount\n",
    "        FROM public.\"Video\"\n",
    "        WHERE \"channel_id\" = '9'\n",
    "        \"\"\"\n",
    "\n",
    "rows = await conn.fetch(query)\n",
    "df = pd.DataFrame(rows, columns=[key for key in rows[0].keys()])\n",
    "print(df)\n",
    "#print(len(df))\n",
    "#print(df.columns)\n",
    "print(df['avg_Donation'])\n",
    "print(type(df.iloc[0]['channel_id']))\n",
    "print('-------------------------------------------------')\n",
    "view_profit_user = (df['viewCount'])*2, int(df['viewCount']*4.5)\n",
    "view_profit_avg = (df['avg_viewCount']*2, int(df['avg_viewCount']*4.5))\n",
    "donation_profit_user = df['Donation']\n",
    "donation_profit_avg = df['avg_Donation']\n",
    "#print(df.iloc[0][\"videoDescription\"])\n",
    "await conn.close()"
   ]
  },
  {
   "cell_type": "markdown",
   "metadata": {},
   "source": [
    "# table 아예 지우고 덮어쓰기"
   ]
  },
  {
   "cell_type": "code",
   "execution_count": 84,
   "metadata": {},
   "outputs": [
    {
     "name": "stderr",
     "output_type": "stream",
     "text": [
      "/tmp/ipykernel_539590/974615120.py:7: DtypeWarning: Columns (1) have mixed types. Specify dtype option on import or set low_memory=False.\n",
      "  data = pd.read_csv(file_path)\n"
     ]
    },
    {
     "name": "stdout",
     "output_type": "stream",
     "text": [
      "\"channel_id\" \"date\" \"dailySubscriberCount\" \"dailyViewCount\" \"totalSubscriberCount\" \"totalViewCount\"\n",
      "1048575 rows inserted into \"DailyChannel\".\n"
     ]
    }
   ],
   "source": [
    "import asyncpg\n",
    "import pandas as pd\n",
    "import numpy as np\n",
    "\n",
    "async def overwrite_table_with_csv(file_path, table_name):\n",
    "    # CSV 파일 읽기\n",
    "    data = pd.read_csv(file_path)\n",
    "    \n",
    "\n",
    "    # Ensure proper data types\n",
    "    for col in ['dailySubscriberCount', 'dailyViewCount', 'totalSubscriberCount', 'totalViewCount']:\n",
    "        if col in data.columns:\n",
    "            data[col] = data[col].astype('Int64')  # Nullable integer type\n",
    "    data = data.replace({pd.NA: None, np.nan: None})\n",
    "\n",
    "    # Convert rows to tuples\n",
    "    rows = [tuple(row) for row in data.itertuples(index=False, name=None)]\n",
    "    \n",
    "    # PostgreSQL 연결\n",
    "    conn = await asyncpg.connect(\n",
    "    \t\thost=\"10.28.224.177\",\n",
    "            port=\"30634\",  \n",
    "            user=\"postgres\",\n",
    "            password=\"0104\",\n",
    "            database=\"postgres\"\n",
    "            )\n",
    "\n",
    "    try:\n",
    "        # 데이터 삽입\n",
    "        columns = ['\"'+column+'\"' for column in list(data.columns)]\n",
    "        print(*columns)\n",
    "        values_placeholder = \", \".join([f\"${i+1}\" for i in range(len(columns))])\n",
    "        insert_query = f\"\"\"INSERT INTO \"{table_name}\" ({', '.join(columns)}) VALUES ({values_placeholder});\"\"\"\n",
    "\n",
    "        # 데이터 행 생성\n",
    "        rows = [tuple(row) for row in data.itertuples(index=False, name=None)]\n",
    "        await conn.executemany(insert_query, rows)\n",
    "        print(f\"\"\"{len(rows)} rows inserted into \"{table_name}\".\"\"\")\n",
    "\n",
    "    except Exception as e:\n",
    "        print(f\"Error: {e}\")\n",
    "    \n",
    "    finally:\n",
    "        await conn.close()\n",
    "\n",
    "# 실행 코드\n",
    "import asyncio\n",
    "\n",
    "async def main():\n",
    "    csv_path = \"_DailyChannel__202501261644.csv\"  # CSV 파일 경로\n",
    "    table_name = \"DailyChannel\"         # 테이블 이름\n",
    "    await overwrite_table_with_csv(csv_path, table_name)\n",
    "\n",
    "asyncio.run(main())\n"
   ]
  },
  {
   "cell_type": "markdown",
   "metadata": {},
   "source": [
    "# 기존 row에 데이터 추가 (UPDATE)"
   ]
  },
  {
   "cell_type": "code",
   "execution_count": 97,
   "metadata": {},
   "outputs": [
    {
     "name": "stdout",
     "output_type": "stream",
     "text": [
      "[(0, 20, 1242), (1, 0, 0), (2, 60, 2713), (3, 660, 241), (4, 24, 957), (5, 2, 2288), (6, 0, 0), (7, 40, 8800), (8, 2, 2723), (9, 0, 0)]\n",
      "\"NumLiveBroadcasting\" \"AverageViewerCount\"\n",
      "10 rows inserted into \"Channel\".\n"
     ]
    }
   ],
   "source": [
    "import asyncpg\n",
    "import pandas as pd\n",
    "import numpy as np\n",
    "\n",
    "async def overwrite_table_with_csv(file_path, table_name, columns):\n",
    "    # CSV 파일 읽기\n",
    "    data = pd.read_csv(file_path)\n",
    "    rows = [tuple(row) for row in data[['id'] + columns].itertuples(index=False, name=None)]\n",
    "    print(rows)\n",
    "    # PostgreSQL 연결\n",
    "    conn = await asyncpg.connect(\n",
    "    \t\thost=\"10.28.224.177\",\n",
    "            port=\"30634\",  \n",
    "            user=\"postgres\",\n",
    "            password=\"0104\",\n",
    "            database=\"postgres\"\n",
    "            )\n",
    "\n",
    "    try:\n",
    "        # 데이터 삽입\n",
    "        columns = ['\"'+column+'\"' for column in columns]\n",
    "        print(*columns)\n",
    "        values_placeholder = \", \".join([f\"{col} = ${i+2}\" for i, col in enumerate(columns)])\n",
    "        insert_query = f\"\"\"\n",
    "        UPDATE \"{table_name}\"\n",
    "        SET {values_placeholder}\n",
    "        WHERE \"id\" = $1;\n",
    "        \"\"\" \n",
    "\n",
    "        await conn.executemany(insert_query, rows)\n",
    "        print(f\"\"\"{len(rows)} rows inserted into \"{table_name}\".\"\"\")\n",
    "\n",
    "    except Exception as e:\n",
    "        print(f\"Error: {e}\")\n",
    "    \n",
    "    finally:\n",
    "        await conn.close()\n",
    "\n",
    "# 실행 코드\n",
    "import asyncio\n",
    "\n",
    "async def main():\n",
    "    csv_path = \"라이브 영상 수.csv\"  # CSV 파일 경로\n",
    "    table_name = \"Channel\"         # 테이블 이름\n",
    "    columns = [\"NumLiveBroadcasting\", \"AverageViewerCount\"]\n",
    "    await overwrite_table_with_csv(csv_path, table_name, columns)\n",
    "\n",
    "asyncio.run(main())\n"
   ]
  }
 ],
 "metadata": {
  "kernelspec": {
   "display_name": ".venv",
   "language": "python",
   "name": "python3"
  },
  "language_info": {
   "codemirror_mode": {
    "name": "ipython",
    "version": 3
   },
   "file_extension": ".py",
   "mimetype": "text/x-python",
   "name": "python",
   "nbconvert_exporter": "python",
   "pygments_lexer": "ipython3",
   "version": "3.10.13"
  }
 },
 "nbformat": 4,
 "nbformat_minor": 2
}
