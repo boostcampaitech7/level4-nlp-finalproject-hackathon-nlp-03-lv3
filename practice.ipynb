{
 "cells": [
  {
   "cell_type": "code",
   "execution_count": 2,
   "metadata": {},
   "outputs": [],
   "source": [
    "import pandas as pd\n",
    "import asyncpg"
   ]
  },
  {
   "cell_type": "code",
   "execution_count": null,
   "metadata": {},
   "outputs": [],
   "source": [
    "from sqlalchemy import create_engine\n",
    "# 접속 정보\n",
    "host = \"10.28.224.177\"\n",
    "port = 30634\n",
    "database = \"postgres\"\n",
    "username = \"postgres\"\n",
    "password = \"0104\"\n",
    "\n",
    "# SQLAlchemy 엔진 생성\n",
    "engine = create_engine(f\"postgresql+psycopg2://{username}:{password}@{host}:{port}/{database}\")\n",
    "\n",
    "query = f'SELECT * FROM public.\"Comments\"'\n",
    "comments_df = pd.read_sql(query, engine)"
   ]
  },
  {
   "cell_type": "code",
   "execution_count": null,
   "metadata": {},
   "outputs": [
    {
     "name": "stdout",
     "output_type": "stream",
     "text": [
      "<class 'numpy.int64'>\n",
      "-------------------------------------------------\n"
     ]
    }
   ],
   "source": [
    "# db 접속하기\n",
    "conn = await asyncpg.connect(\n",
    "    \t\thost=\"10.28.224.177\",\n",
    "            port=\"30634\",  \n",
    "            user=\"postgres\",\n",
    "            password=\"0104\",\n",
    "            database=\"postgres\"\n",
    "            )\n",
    "query = \"\"\"SELECT *\n",
    "        FROM public.\"DailyChannel\" c\n",
    "        LEFT OUTER JOIN public.\"Video\" v ON c.id = v.channel_id\"\"\"\n",
    "rows = await conn.fetch(query)\n",
    "df = pd.DataFrame(rows, columns=[key for key in rows[0].keys()])\n",
    "#print(len(df))\n",
    "#print(df.columns)\n",
    "print(type(df.iloc[0]['channel_id']))\n",
    "print('-------------------------------------------------')\n",
    "#print(df.iloc[0][\"videoDescription\"])\n",
    "await conn.close()"
   ]
  },
  {
   "cell_type": "markdown",
   "metadata": {},
   "source": [
    "# table 아예 지우고 덮어쓰기"
   ]
  },
  {
   "cell_type": "code",
   "execution_count": 84,
   "metadata": {},
   "outputs": [
    {
     "name": "stderr",
     "output_type": "stream",
     "text": [
      "/tmp/ipykernel_539590/974615120.py:7: DtypeWarning: Columns (1) have mixed types. Specify dtype option on import or set low_memory=False.\n",
      "  data = pd.read_csv(file_path)\n"
     ]
    },
    {
     "name": "stdout",
     "output_type": "stream",
     "text": [
      "\"channel_id\" \"date\" \"dailySubscriberCount\" \"dailyViewCount\" \"totalSubscriberCount\" \"totalViewCount\"\n",
      "1048575 rows inserted into \"DailyChannel\".\n"
     ]
    }
   ],
   "source": [
    "import asyncpg\n",
    "import pandas as pd\n",
    "import numpy as np\n",
    "\n",
    "async def overwrite_table_with_csv(file_path, table_name):\n",
    "    # CSV 파일 읽기\n",
    "    data = pd.read_csv(file_path)\n",
    "    \n",
    "\n",
    "    # Ensure proper data types\n",
    "    for col in ['dailySubscriberCount', 'dailyViewCount', 'totalSubscriberCount', 'totalViewCount']:\n",
    "        if col in data.columns:\n",
    "            data[col] = data[col].astype('Int64')  # Nullable integer type\n",
    "    data = data.replace({pd.NA: None, np.nan: None})\n",
    "\n",
    "    # Convert rows to tuples\n",
    "    rows = [tuple(row) for row in data.itertuples(index=False, name=None)]\n",
    "    \n",
    "    # PostgreSQL 연결\n",
    "    conn = await asyncpg.connect(\n",
    "    \t\thost=\"10.28.224.177\",\n",
    "            port=\"30634\",  \n",
    "            user=\"postgres\",\n",
    "            password=\"0104\",\n",
    "            database=\"postgres\"\n",
    "            )\n",
    "\n",
    "    try:\n",
    "        # 데이터 삽입\n",
    "        columns = ['\"'+column+'\"' for column in list(data.columns)]\n",
    "        print(*columns)\n",
    "        values_placeholder = \", \".join([f\"${i+1}\" for i in range(len(columns))])\n",
    "        insert_query = f\"\"\"INSERT INTO \"{table_name}\" ({', '.join(columns)}) VALUES ({values_placeholder});\"\"\"\n",
    "\n",
    "        # 데이터 행 생성\n",
    "        rows = [tuple(row) for row in data.itertuples(index=False, name=None)]\n",
    "        await conn.executemany(insert_query, rows)\n",
    "        print(f\"\"\"{len(rows)} rows inserted into \"{table_name}\".\"\"\")\n",
    "\n",
    "    except Exception as e:\n",
    "        print(f\"Error: {e}\")\n",
    "    \n",
    "    finally:\n",
    "        await conn.close()\n",
    "\n",
    "# 실행 코드\n",
    "import asyncio\n",
    "\n",
    "async def main():\n",
    "    csv_path = \"_DailyChannel__202501261644.csv\"  # CSV 파일 경로\n",
    "    table_name = \"DailyChannel\"         # 테이블 이름\n",
    "    await overwrite_table_with_csv(csv_path, table_name)\n",
    "\n",
    "asyncio.run(main())\n"
   ]
  },
  {
   "cell_type": "markdown",
   "metadata": {},
   "source": [
    "# 기존 row에 데이터 추가 (UPDATE)"
   ]
  },
  {
   "cell_type": "code",
   "execution_count": 97,
   "metadata": {},
   "outputs": [
    {
     "name": "stdout",
     "output_type": "stream",
     "text": [
      "[(0, 20, 1242), (1, 0, 0), (2, 60, 2713), (3, 660, 241), (4, 24, 957), (5, 2, 2288), (6, 0, 0), (7, 40, 8800), (8, 2, 2723), (9, 0, 0)]\n",
      "\"NumLiveBroadcasting\" \"AverageViewerCount\"\n",
      "10 rows inserted into \"Channel\".\n"
     ]
    }
   ],
   "source": [
    "import asyncpg\n",
    "import pandas as pd\n",
    "import numpy as np\n",
    "\n",
    "async def overwrite_table_with_csv(file_path, table_name, columns):\n",
    "    # CSV 파일 읽기\n",
    "    data = pd.read_csv(file_path)\n",
    "    rows = [tuple(row) for row in data[['id'] + columns].itertuples(index=False, name=None)]\n",
    "    print(rows)\n",
    "    # PostgreSQL 연결\n",
    "    conn = await asyncpg.connect(\n",
    "    \t\thost=\"10.28.224.177\",\n",
    "            port=\"30634\",  \n",
    "            user=\"postgres\",\n",
    "            password=\"0104\",\n",
    "            database=\"postgres\"\n",
    "            )\n",
    "\n",
    "    try:\n",
    "        # 데이터 삽입\n",
    "        columns = ['\"'+column+'\"' for column in columns]\n",
    "        print(*columns)\n",
    "        values_placeholder = \", \".join([f\"{col} = ${i+2}\" for i, col in enumerate(columns)])\n",
    "        insert_query = f\"\"\"\n",
    "        UPDATE \"{table_name}\"\n",
    "        SET {values_placeholder}\n",
    "        WHERE \"id\" = $1;\n",
    "        \"\"\" \n",
    "\n",
    "        await conn.executemany(insert_query, rows)\n",
    "        print(f\"\"\"{len(rows)} rows inserted into \"{table_name}\".\"\"\")\n",
    "\n",
    "    except Exception as e:\n",
    "        print(f\"Error: {e}\")\n",
    "    \n",
    "    finally:\n",
    "        await conn.close()\n",
    "\n",
    "# 실행 코드\n",
    "import asyncio\n",
    "\n",
    "async def main():\n",
    "    csv_path = \"라이브 영상 수.csv\"  # CSV 파일 경로\n",
    "    table_name = \"Channel\"         # 테이블 이름\n",
    "    columns = [\"NumLiveBroadcasting\", \"AverageViewerCount\"]\n",
    "    await overwrite_table_with_csv(csv_path, table_name, columns)\n",
    "\n",
    "asyncio.run(main())\n"
   ]
  }
 ],
 "metadata": {
  "kernelspec": {
   "display_name": ".venv",
   "language": "python",
   "name": "python3"
  },
  "language_info": {
   "codemirror_mode": {
    "name": "ipython",
    "version": 3
   },
   "file_extension": ".py",
   "mimetype": "text/x-python",
   "name": "python",
   "nbconvert_exporter": "python",
   "pygments_lexer": "ipython3",
   "version": "3.10.13"
  }
 },
 "nbformat": 4,
 "nbformat_minor": 2
}
