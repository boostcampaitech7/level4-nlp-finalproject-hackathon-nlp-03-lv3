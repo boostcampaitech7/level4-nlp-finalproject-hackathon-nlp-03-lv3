{
 "cells": [
  {
   "cell_type": "code",
   "execution_count": 36,
   "metadata": {},
   "outputs": [],
   "source": [
    "import os\n",
    "import json\n",
    "import pandas as pd\n",
    "import pytz\n",
    "from datetime import datetime\n",
    "from sqlalchemy import create_engine\n"
   ]
  },
  {
   "cell_type": "code",
   "execution_count": 37,
   "metadata": {},
   "outputs": [],
   "source": [
    "# 접속 정보\n",
    "host = \"10.28.224.177\"\n",
    "port = 30634\n",
    "database = \"postgres\"\n",
    "username = \"postgres\"\n",
    "password = \"0104\""
   ]
  },
  {
   "cell_type": "code",
   "execution_count": null,
   "metadata": {},
   "outputs": [],
   "source": [
    "# SQLAlchemy 엔진 생성\n",
    "engine = create_engine(f\"postgresql+psycopg2://{username}:{password}@{host}:{port}/{database}\")"
   ]
  },
  {
   "cell_type": "markdown",
   "metadata": {},
   "source": [
    "# 유튜브 데이터 DB에 저장"
   ]
  },
  {
   "cell_type": "markdown",
   "metadata": {},
   "source": [
    "### channel"
   ]
  },
  {
   "cell_type": "code",
   "execution_count": 12,
   "metadata": {},
   "outputs": [],
   "source": [
    "channel_lst = [\"피식대학\", \"SGBG\", \"swab85\", \"konuri\", \"Yoiki\", \"NERDULT\", \"donghahahaha\", \"JBKWAK\", \"geean84\", \"carthejungwon\"]\n",
    "channel_name = ['피식대학', '싱긍벙글', '승우아빠', '고누리', '가요이', '너덜트', '동하하', '곽튜브', '기안84', '카더정원']"
   ]
  },
  {
   "cell_type": "code",
   "execution_count": 13,
   "metadata": {},
   "outputs": [],
   "source": [
    "columns_name = ['id', 'name' , 'uId', 'title', 'description', 'publishedAt', 'thumbnails', 'viewCount', 'subscriberCount', 'videoCount', 'topicCategories', 'dataTime']"
   ]
  },
  {
   "cell_type": "code",
   "execution_count": 21,
   "metadata": {},
   "outputs": [],
   "source": [
    "# 한국 시간대 설정\n",
    "korea_timezone = pytz.timezone('Asia/Seoul')\n",
    "\n",
    "# 현재 시간 가져오기\n",
    "korea_time = datetime.now(korea_timezone)\n",
    "\n",
    "# 원하는 형식으로 출력 (YYYY-MM-DD)\n",
    "formatted_time = korea_time.strftime('%Y-%m-%d')"
   ]
  },
  {
   "cell_type": "code",
   "execution_count": 23,
   "metadata": {},
   "outputs": [
    {
     "name": "stdout",
     "output_type": "stream",
     "text": [
      "{'kind': 'youtube#channelListResponse', 'etag': 'LXVXij--1XO-PEvmvyJd-aHX-Uc', 'pageInfo': {'totalResults': 1, 'resultsPerPage': 5}, 'items': [{'kind': 'youtube#channel', 'etag': 'X0MC8wQC67nrc7tnpHRGlbgScQQ', 'id': 'UCGX5sP4ehBkihHwt5bs5wvg', 'snippet': {'title': '피식대학Psick Univ', 'description': '코미디 인재 육성 및 연구의 메카 피식대학 \\n\\n✅ 피식대학 비즈니스 메일\\npsickuniv@metacomedy.net\\n\\n✅ 피식대학 사서함\\n(04054) 서울특별시 마포구 와우산로 29가길 42, 메타코미디\\n\\n✅ 피식대학 굿즈 스토어\\nhttps://smartstore.naver.com/psickuniv\\n', 'customUrl': '@피식대학', 'publishedAt': '2019-04-01T05:31:41Z', 'thumbnails': {'default': {'url': 'https://yt3.ggpht.com/FQ61Pjh2In6lt-nd0o6EtWyCRPIlopBzcm-Pz88CzRXE1gZQ-o1OnV8wL-9IzC4aRr52M6q4z8I=s88-c-k-c0x00ffffff-no-rj', 'width': 88, 'height': 88}, 'medium': {'url': 'https://yt3.ggpht.com/FQ61Pjh2In6lt-nd0o6EtWyCRPIlopBzcm-Pz88CzRXE1gZQ-o1OnV8wL-9IzC4aRr52M6q4z8I=s240-c-k-c0x00ffffff-no-rj', 'width': 240, 'height': 240}, 'high': {'url': 'https://yt3.ggpht.com/FQ61Pjh2In6lt-nd0o6EtWyCRPIlopBzcm-Pz88CzRXE1gZQ-o1OnV8wL-9IzC4aRr52M6q4z8I=s800-c-k-c0x00ffffff-no-rj', 'width': 800, 'height': 800}}, 'localized': {'title': '피식대학Psick Univ', 'description': '코미디 인재 육성 및 연구의 메카 피식대학 \\n\\n✅ 피식대학 비즈니스 메일\\npsickuniv@metacomedy.net\\n\\n✅ 피식대학 사서함\\n(04054) 서울특별시 마포구 와우산로 29가길 42, 메타코미디\\n\\n✅ 피식대학 굿즈 스토어\\nhttps://smartstore.naver.com/psickuniv\\n'}, 'country': 'KR'}, 'contentDetails': {'relatedPlaylists': {'likes': '', 'uploads': 'UUGX5sP4ehBkihHwt5bs5wvg'}}, 'statistics': {'viewCount': '2179523566', 'subscriberCount': '2810000', 'hiddenSubscriberCount': False, 'videoCount': '1776'}, 'topicDetails': {'topicIds': ['/m/06ntj'], 'topicCategories': ['https://en.wikipedia.org/wiki/Sport']}, 'status': {'privacyStatus': 'public', 'isLinked': True, 'longUploadsStatus': 'longUploadsUnspecified', 'madeForKids': False}, 'brandingSettings': {'channel': {'title': '피식대학Psick Univ', 'description': '코미디 인재 육성 및 연구의 메카 피식대학 \\n\\n✅ 피식대학 비즈니스 메일\\npsickuniv@metacomedy.net\\n\\n✅ 피식대학 사서함\\n(04054) 서울특별시 마포구 와우산로 29가길 42, 메타코미디\\n\\n✅ 피식대학 굿즈 스토어\\nhttps://smartstore.naver.com/psickuniv\\n', 'country': 'KR'}, 'image': {'bannerExternalUrl': 'https://yt3.googleusercontent.com/7Rt3AwrXGARTA2BZ6IJJ8LjcAumAQFTrNJRNQRrwCRI08KB01uOH9a5Qk68kNC9CA5efNRDN-w'}}}]}\n",
      "{'kind': 'youtube#channelListResponse', 'etag': 'Dsb1yJFqFfP-hjBreGKFemV9J50', 'pageInfo': {'totalResults': 1, 'resultsPerPage': 5}, 'items': [{'kind': 'youtube#channel', 'etag': 'XAEzAxosT9ZqOEbBxIpIPg0LtMk', 'id': 'UC7_CFRfhIj-fSk3patOQOaw', 'snippet': {'title': '싱글벙글 SGBG', 'description': '#싱글벙글 #스케치코미디\\n\\n비즈니스 메일 : sgbgstudio@naver.com\\n\\n\\n', 'customUrl': '@sgbg', 'publishedAt': '2020-12-09T16:00:17.091894Z', 'thumbnails': {'default': {'url': 'https://yt3.ggpht.com/NMese3xj7Q6k4GyetZmY5Av__4sGWlh5OaKCC-ksSUNfhY68Rk4CaNn3gE21fBGEHeLVDNQmEA=s88-c-k-c0x00ffffff-no-rj', 'width': 88, 'height': 88}, 'medium': {'url': 'https://yt3.ggpht.com/NMese3xj7Q6k4GyetZmY5Av__4sGWlh5OaKCC-ksSUNfhY68Rk4CaNn3gE21fBGEHeLVDNQmEA=s240-c-k-c0x00ffffff-no-rj', 'width': 240, 'height': 240}, 'high': {'url': 'https://yt3.ggpht.com/NMese3xj7Q6k4GyetZmY5Av__4sGWlh5OaKCC-ksSUNfhY68Rk4CaNn3gE21fBGEHeLVDNQmEA=s800-c-k-c0x00ffffff-no-rj', 'width': 800, 'height': 800}}, 'defaultLanguage': 'ko', 'localized': {'title': '싱글벙글 SGBG', 'description': '#싱글벙글 #스케치코미디\\n\\n비즈니스 메일 : sgbgstudio@naver.com\\n\\n\\n'}, 'country': 'KR'}, 'contentDetails': {'relatedPlaylists': {'likes': '', 'uploads': 'UU7_CFRfhIj-fSk3patOQOaw'}}, 'statistics': {'viewCount': '1891782093', 'subscriberCount': '1430000', 'hiddenSubscriberCount': False, 'videoCount': '686'}, 'topicDetails': {'topicIds': ['/m/02jjt', '/m/02vxn', '/m/019_rr'], 'topicCategories': ['https://en.wikipedia.org/wiki/Entertainment', 'https://en.wikipedia.org/wiki/Film', 'https://en.wikipedia.org/wiki/Lifestyle_(sociology)']}, 'status': {'privacyStatus': 'public', 'isLinked': True, 'longUploadsStatus': 'longUploadsUnspecified'}, 'brandingSettings': {'channel': {'title': '싱글벙글 SGBG', 'description': '#싱글벙글 #스케치코미디\\n\\n비즈니스 메일 : sgbgstudio@naver.com\\n\\n\\n', 'unsubscribedTrailer': '4CLdIxiNZMs', 'defaultLanguage': 'ko', 'country': 'KR'}, 'image': {'bannerExternalUrl': 'https://yt3.googleusercontent.com/-toJPNNN8r1g0X4mtr1Fa-KDhHKnwTKNNT8FDbuE4WOj4KbbZs8wkqYqWXCS76z9jYgIYiK7KA'}}}]}\n",
      "{'kind': 'youtube#channelListResponse', 'etag': '8-_JZLhPPNeckoch15xBAXXSkfY', 'pageInfo': {'totalResults': 1, 'resultsPerPage': 5}, 'items': [{'kind': 'youtube#channel', 'etag': 'WAiFCxp_5RG9jYO_dhLOr5V9YFo', 'id': 'UCgsffS7MfKL6YU3r_U3E-aA', 'snippet': {'title': '승우아빠', 'description': '눈으로 보기만 할수 있는 채널이 아닌, \\n그냥 스쳐 지나가는 어려운 레시피가 아닌,\\n누구나 따라할 수 있는 레시피 채널을 만들고 싶어요! \\n📪 비즈니스 문의 lia@3ycorp.kr\\n*https://instagram.com/swab_official\\n*https://www.tiktok.com/@swab_official', 'customUrl': '@swab85', 'publishedAt': '2015-03-05T09:36:17Z', 'thumbnails': {'default': {'url': 'https://yt3.ggpht.com/ytc/AIdro_m1ykZ7T3H8P28_2buzn_7ENflWlqILVz4AZGwg0hrxT8g=s88-c-k-c0x00ffffff-no-rj', 'width': 88, 'height': 88}, 'medium': {'url': 'https://yt3.ggpht.com/ytc/AIdro_m1ykZ7T3H8P28_2buzn_7ENflWlqILVz4AZGwg0hrxT8g=s240-c-k-c0x00ffffff-no-rj', 'width': 240, 'height': 240}, 'high': {'url': 'https://yt3.ggpht.com/ytc/AIdro_m1ykZ7T3H8P28_2buzn_7ENflWlqILVz4AZGwg0hrxT8g=s800-c-k-c0x00ffffff-no-rj', 'width': 800, 'height': 800}}, 'localized': {'title': '승우아빠', 'description': '눈으로 보기만 할수 있는 채널이 아닌, \\n그냥 스쳐 지나가는 어려운 레시피가 아닌,\\n누구나 따라할 수 있는 레시피 채널을 만들고 싶어요! \\n📪 비즈니스 문의 lia@3ycorp.kr\\n*https://instagram.com/swab_official\\n*https://www.tiktok.com/@swab_official'}, 'country': 'KR'}, 'contentDetails': {'relatedPlaylists': {'likes': '', 'uploads': 'UUgsffS7MfKL6YU3r_U3E-aA'}}, 'statistics': {'viewCount': '726724589', 'subscriberCount': '1440000', 'hiddenSubscriberCount': False, 'videoCount': '1238'}, 'topicDetails': {'topicIds': ['/m/019_rr', '/m/02wbm'], 'topicCategories': ['https://en.wikipedia.org/wiki/Lifestyle_(sociology)', 'https://en.wikipedia.org/wiki/Food']}, 'status': {'privacyStatus': 'public', 'isLinked': True, 'longUploadsStatus': 'longUploadsUnspecified', 'madeForKids': False}, 'brandingSettings': {'channel': {'title': '승우아빠', 'description': '눈으로 보기만 할수 있는 채널이 아닌, \\n그냥 스쳐 지나가는 어려운 레시피가 아닌,\\n누구나 따라할 수 있는 레시피 채널을 만들고 싶어요! \\n📪 비즈니스 문의 lia@3ycorp.kr\\n*https://instagram.com/swab_official\\n*https://www.tiktok.com/@swab_official', 'keywords': '간단요리; 레시피; 요리; 집밥; 승우아빠;', 'country': 'KR'}, 'image': {'bannerExternalUrl': 'https://yt3.googleusercontent.com/EDYCAG7Z72tRaLhivdh7G2W-GlNzVusH7HPQjACMwacABQIAn_onsuMExIQ-rYLdcz2wlq2wpA'}}}]}\n",
      "{'kind': 'youtube#channelListResponse', 'etag': 'RGMX6x1TVCQr4lFc0GXsYLl6R0s', 'pageInfo': {'totalResults': 1, 'resultsPerPage': 5}, 'items': [{'kind': 'youtube#channel', 'etag': 'R76jzCnxadGF_c0UnTX0WbYWY0c', 'id': 'UCs0P4GrXEumyYn-d8ASrGlA', 'snippet': {'title': '고누리', 'description': '만화 그림 열심히 하겠습니다.\\n모든 문의: konuri2023@gmail.com\\n\\n\\n', 'customUrl': '@konuri', 'publishedAt': '2013-02-26T14:31:16Z', 'thumbnails': {'default': {'url': 'https://yt3.ggpht.com/Ah40-jjuxkgc6FTTWz5EB-th_NwsTQXquGmGx7c8G13_FBMgiNTkDkLjq6_CUM5OTrHsdn2B=s88-c-k-c0x00ffffff-no-rj', 'width': 88, 'height': 88}, 'medium': {'url': 'https://yt3.ggpht.com/Ah40-jjuxkgc6FTTWz5EB-th_NwsTQXquGmGx7c8G13_FBMgiNTkDkLjq6_CUM5OTrHsdn2B=s240-c-k-c0x00ffffff-no-rj', 'width': 240, 'height': 240}, 'high': {'url': 'https://yt3.ggpht.com/Ah40-jjuxkgc6FTTWz5EB-th_NwsTQXquGmGx7c8G13_FBMgiNTkDkLjq6_CUM5OTrHsdn2B=s800-c-k-c0x00ffffff-no-rj', 'width': 800, 'height': 800}}, 'localized': {'title': '고누리', 'description': '만화 그림 열심히 하겠습니다.\\n모든 문의: konuri2023@gmail.com\\n\\n\\n'}, 'country': 'KR'}, 'contentDetails': {'relatedPlaylists': {'likes': '', 'uploads': 'UUs0P4GrXEumyYn-d8ASrGlA'}}, 'statistics': {'viewCount': '1339524809', 'subscriberCount': '2650000', 'hiddenSubscriberCount': False, 'videoCount': '861'}, 'topicDetails': {'topicIds': ['/m/02jjt', '/m/02vxn'], 'topicCategories': ['https://en.wikipedia.org/wiki/Entertainment', 'https://en.wikipedia.org/wiki/Film']}, 'status': {'privacyStatus': 'public', 'isLinked': True, 'longUploadsStatus': 'longUploadsUnspecified', 'madeForKids': False}, 'brandingSettings': {'channel': {'title': '고누리', 'description': '만화 그림 열심히 하겠습니다.\\n모든 문의: konuri2023@gmail.com\\n\\n\\n', 'keywords': '만화 애니메이션 애니 손그림 그림 animation 공감 공감툰 \"일상 애니메이션\" konuri meme Cartoon アニメ', 'unsubscribedTrailer': 'i_RFLW8C374', 'country': 'KR'}, 'image': {'bannerExternalUrl': 'https://yt3.googleusercontent.com/S8eHXc4TnSA5D1vR2PNCdNXpUm6GeAFpfYX-82b_Qa9T1gNzacWVS9Xc76C5RzDpP1zCDshJ3A'}}}]}\n",
      "{'kind': 'youtube#channelListResponse', 'etag': 'ItJLJztTBNkd-6MJ2SeRX2CKSWY', 'pageInfo': {'totalResults': 1, 'resultsPerPage': 5}, 'items': [{'kind': 'youtube#channel', 'etag': 'PKG5jusCAmeJhfPPtE8HpKht3x8', 'id': 'UC8TxOmxwC8QpHRZra7sOFig', 'snippet': {'title': '가요이 키우기 YoiKi', 'description': '그냥 가영이가 귀여워서 만든 채널\\n', 'customUrl': '@yoiki', 'publishedAt': '2019-04-21T08:47:27Z', 'thumbnails': {'default': {'url': 'https://yt3.ggpht.com/PyMpGNCwvxsYreOBWv3Z5jYRflDneBFTkeVbo6UMkSuzdRUlnpBLidAZScWq23wMm-RKhVcXgQ=s88-c-k-c0x00ffffff-no-rj', 'width': 88, 'height': 88}, 'medium': {'url': 'https://yt3.ggpht.com/PyMpGNCwvxsYreOBWv3Z5jYRflDneBFTkeVbo6UMkSuzdRUlnpBLidAZScWq23wMm-RKhVcXgQ=s240-c-k-c0x00ffffff-no-rj', 'width': 240, 'height': 240}, 'high': {'url': 'https://yt3.ggpht.com/PyMpGNCwvxsYreOBWv3Z5jYRflDneBFTkeVbo6UMkSuzdRUlnpBLidAZScWq23wMm-RKhVcXgQ=s800-c-k-c0x00ffffff-no-rj', 'width': 800, 'height': 800}}, 'localized': {'title': '가요이 키우기 YoiKi', 'description': '그냥 가영이가 귀여워서 만든 채널\\n'}, 'country': 'KR'}, 'contentDetails': {'relatedPlaylists': {'likes': '', 'uploads': 'UU8TxOmxwC8QpHRZra7sOFig'}}, 'statistics': {'viewCount': '425465686', 'subscriberCount': '736000', 'hiddenSubscriberCount': False, 'videoCount': '247'}, 'topicDetails': {'topicIds': ['/m/019_rr'], 'topicCategories': ['https://en.wikipedia.org/wiki/Lifestyle_(sociology)']}, 'status': {'privacyStatus': 'public', 'isLinked': True, 'longUploadsStatus': 'longUploadsUnspecified', 'madeForKids': False}, 'brandingSettings': {'channel': {'title': '가요이 키우기 YoiKi', 'description': '그냥 가영이가 귀여워서 만든 채널\\n', 'keywords': '커플 브이로그 일상 여행 데이트 여행브이로그 커플브이로그', 'unsubscribedTrailer': '4CXtw3zLyd0', 'country': 'KR'}, 'image': {'bannerExternalUrl': 'https://yt3.googleusercontent.com/bBvXLyP5miLQnzUaYxuhsnQShM3jIz3eWbGZZiy4RA4JYuPXjlt6gJlJVBuZF66D16c6NUmZIA'}}}]}\n",
      "{'kind': 'youtube#channelListResponse', 'etag': '-Cs-cB6rIUUMa7DWRUyBkkpY8yc', 'pageInfo': {'totalResults': 1, 'resultsPerPage': 5}, 'items': [{'kind': 'youtube#channel', 'etag': 'SVI7hVN91LmpPGAmIbQd35VqWEw', 'id': 'UCXEKwWflysXu312NmIP_dlw', 'snippet': {'title': '너덜트', 'description': '문의는 메일로 부탁드립니다 :)\\nnerdult1@gmail.com\\n', 'customUrl': '@nerdult', 'publishedAt': '2021-06-21T08:55:19.939046Z', 'thumbnails': {'default': {'url': 'https://yt3.ggpht.com/q-uQmCdiiOFQsHU83mfWqS3rpdRJXRW9zb_vpyr2MtInkqsVtQwc3ej3rouyVORHL6Dvx7--Iw=s88-c-k-c0x00ffffff-no-rj', 'width': 88, 'height': 88}, 'medium': {'url': 'https://yt3.ggpht.com/q-uQmCdiiOFQsHU83mfWqS3rpdRJXRW9zb_vpyr2MtInkqsVtQwc3ej3rouyVORHL6Dvx7--Iw=s240-c-k-c0x00ffffff-no-rj', 'width': 240, 'height': 240}, 'high': {'url': 'https://yt3.ggpht.com/q-uQmCdiiOFQsHU83mfWqS3rpdRJXRW9zb_vpyr2MtInkqsVtQwc3ej3rouyVORHL6Dvx7--Iw=s800-c-k-c0x00ffffff-no-rj', 'width': 800, 'height': 800}}, 'defaultLanguage': 'ko', 'localized': {'title': '너덜트', 'description': '문의는 메일로 부탁드립니다 :)\\nnerdult1@gmail.com\\n'}, 'country': 'KR'}, 'contentDetails': {'relatedPlaylists': {'likes': '', 'uploads': 'UUXEKwWflysXu312NmIP_dlw'}}, 'statistics': {'viewCount': '422241281', 'subscriberCount': '2010000', 'hiddenSubscriberCount': False, 'videoCount': '104'}, 'topicDetails': {'topicIds': ['/m/02vxn', '/m/02jjt', '/m/09kqc'], 'topicCategories': ['https://en.wikipedia.org/wiki/Film', 'https://en.wikipedia.org/wiki/Entertainment', 'https://en.wikipedia.org/wiki/Humour']}, 'status': {'privacyStatus': 'public', 'isLinked': True, 'longUploadsStatus': 'longUploadsUnspecified', 'madeForKids': False}, 'brandingSettings': {'channel': {'title': '너덜트', 'description': '문의는 메일로 부탁드립니다 :)\\nnerdult1@gmail.com\\n', 'unsubscribedTrailer': 'jxdQh7vs4Ls', 'defaultLanguage': 'ko', 'country': 'KR'}, 'image': {'bannerExternalUrl': 'https://yt3.googleusercontent.com/tNzwspjsGerAkPyu22LxgAZBK0X04od7wosAdsDqeFsHZPxApCCNGKbkIgHzXM0y6O4bCv_Yng'}}}]}\n",
      "{'kind': 'youtube#channelListResponse', 'etag': 'fpqsuRf2NzUgSiKROTIrFxInsLc', 'pageInfo': {'totalResults': 1, 'resultsPerPage': 5}, 'items': [{'kind': 'youtube#channel', 'etag': 'dCBbVDw_A4eNhJ9uXEgsO-cOyRc', 'id': 'UC_VSHnyAnKnljt3iMYd8H3w', 'snippet': {'title': '동하하', 'description': '놀림전문가\\n\\n섭외 문의 \\n이메일 - dongha@metacomedy.net \\n인스타 - donghahahaha DM', 'customUrl': '@donghahahaha', 'publishedAt': '2012-08-18T09:35:10Z', 'thumbnails': {'default': {'url': 'https://yt3.ggpht.com/XiAkIp5pc-l0I6tzZpbQeZr2l0_BBbrnjdjY_TNPqITk6R9WtSiWInmPYlX_jIzvXCojiQRucQ=s88-c-k-c0x00ffffff-no-rj', 'width': 88, 'height': 88}, 'medium': {'url': 'https://yt3.ggpht.com/XiAkIp5pc-l0I6tzZpbQeZr2l0_BBbrnjdjY_TNPqITk6R9WtSiWInmPYlX_jIzvXCojiQRucQ=s240-c-k-c0x00ffffff-no-rj', 'width': 240, 'height': 240}, 'high': {'url': 'https://yt3.ggpht.com/XiAkIp5pc-l0I6tzZpbQeZr2l0_BBbrnjdjY_TNPqITk6R9WtSiWInmPYlX_jIzvXCojiQRucQ=s800-c-k-c0x00ffffff-no-rj', 'width': 800, 'height': 800}}, 'localized': {'title': '동하하', 'description': '놀림전문가\\n\\n섭외 문의 \\n이메일 - dongha@metacomedy.net \\n인스타 - donghahahaha DM'}, 'country': 'KR'}, 'contentDetails': {'relatedPlaylists': {'likes': '', 'uploads': 'UU_VSHnyAnKnljt3iMYd8H3w'}}, 'statistics': {'viewCount': '215416911', 'subscriberCount': '337000', 'hiddenSubscriberCount': False, 'videoCount': '512'}, 'topicDetails': {'topicIds': ['/m/09kqc', '/m/02jjt', '/m/02vxn'], 'topicCategories': ['https://en.wikipedia.org/wiki/Humour', 'https://en.wikipedia.org/wiki/Entertainment', 'https://en.wikipedia.org/wiki/Film']}, 'status': {'privacyStatus': 'public', 'isLinked': True, 'longUploadsStatus': 'longUploadsUnspecified', 'madeForKids': False}, 'brandingSettings': {'channel': {'title': '동하하', 'description': '놀림전문가\\n\\n섭외 문의 \\n이메일 - dongha@metacomedy.net \\n인스타 - donghahahaha DM', 'keywords': '코미디언 스탠드업코미디 유머 웃음 standupcomedy 코미디 동하하 김동하 MC 코미꼬 서울코미디클럽 애드립 대니초 송하빈 이제규 원라이너 호스트 입담 애드립 크라우드워크 김동하 동하하', 'unsubscribedTrailer': 'ETNC0qtCglY', 'country': 'KR'}, 'image': {'bannerExternalUrl': 'https://yt3.googleusercontent.com/UF9KHeVdH6vPd_Yk-bY9z_I1rqSxKyqkAq1j5wS1GKIW9h40E4eHdUaNST-XG5gsk_221z8Y4g'}}}]}\n",
      "{'kind': 'youtube#channelListResponse', 'etag': 'nI2Zru4c6fn4RbOGuUXFv8G-T1Y', 'pageInfo': {'totalResults': 1, 'resultsPerPage': 5}, 'items': [{'kind': 'youtube#channel', 'etag': '_oLsj_R7GbpWMjIgHMucQOaAIfs', 'id': 'UClRNDVO8093rmRTtLe4GEPw', 'snippet': {'title': '곽튜브', 'description': '세계여행 및 음식탐방을 목표로 하는 채널입니다.\\n문의 \\ninsta : @jbkwak\\nmail : wnsqls3@gmail.com', 'customUrl': '@jbkwak', 'publishedAt': '2018-10-16T17:14:53Z', 'thumbnails': {'default': {'url': 'https://yt3.ggpht.com/whpRwLKLoWAQCwYCbr9Hq4xXF67ktW18y86VDdiMK4xS2xy_rVRMwIO3pf93QI-eZ_sAs7j-jQ=s88-c-k-c0x00ffffff-no-rj', 'width': 88, 'height': 88}, 'medium': {'url': 'https://yt3.ggpht.com/whpRwLKLoWAQCwYCbr9Hq4xXF67ktW18y86VDdiMK4xS2xy_rVRMwIO3pf93QI-eZ_sAs7j-jQ=s240-c-k-c0x00ffffff-no-rj', 'width': 240, 'height': 240}, 'high': {'url': 'https://yt3.ggpht.com/whpRwLKLoWAQCwYCbr9Hq4xXF67ktW18y86VDdiMK4xS2xy_rVRMwIO3pf93QI-eZ_sAs7j-jQ=s800-c-k-c0x00ffffff-no-rj', 'width': 800, 'height': 800}}, 'localized': {'title': '곽튜브', 'description': '세계여행 및 음식탐방을 목표로 하는 채널입니다.\\n문의 \\ninsta : @jbkwak\\nmail : wnsqls3@gmail.com'}, 'country': 'KR'}, 'contentDetails': {'relatedPlaylists': {'likes': '', 'uploads': 'UUlRNDVO8093rmRTtLe4GEPw'}}, 'statistics': {'viewCount': '551916049', 'subscriberCount': '2060000', 'hiddenSubscriberCount': False, 'videoCount': '369'}, 'topicDetails': {'topicIds': ['/m/02wbm', '/m/019_rr', '/g/120yrv6h'], 'topicCategories': ['https://en.wikipedia.org/wiki/Food', 'https://en.wikipedia.org/wiki/Lifestyle_(sociology)', 'https://en.wikipedia.org/wiki/Tourism']}, 'status': {'privacyStatus': 'public', 'isLinked': True, 'longUploadsStatus': 'longUploadsUnspecified', 'madeForKids': False}, 'brandingSettings': {'channel': {'title': '곽튜브', 'description': '세계여행 및 음식탐방을 목표로 하는 채널입니다.\\n문의 \\ninsta : @jbkwak\\nmail : wnsqls3@gmail.com', 'country': 'KR'}, 'image': {'bannerExternalUrl': 'https://yt3.googleusercontent.com/QCHOikUAYi9sczu5OtwbxexLDFgdFajojY-tCtXdQgPxAVOGAduz8AhsskUf8bdOlkdhqWTCkA'}}}]}\n",
      "{'kind': 'youtube#channelListResponse', 'etag': 'Y57XHCDLJYBvoEa2X60hFUs7nU8', 'pageInfo': {'totalResults': 1, 'resultsPerPage': 5}, 'items': [{'kind': 'youtube#channel', 'etag': '3_F5CGLGwyyflUXSph1dw_JTPNs', 'id': 'UC1Rz7a_DWtsE9cQwSyElE0Q', 'snippet': {'title': '인생84', 'description': '남극의 황제 펭귄이  \\n먹이를 소화시켜 자식에게\\n펭귄 밀크를 토 해내듯,\\n저 또한\\n흘러간 인생을 소화시켜,\\n영양가 있는 인생 밀크를\\n만들어보려 합니다.\\n맛잇고 영양가 있는\\n밀크를 만들도록 노력 해보겠습니다.\\n\\n이곳 인생84에서 .\\n\\n비지니스  문의 Email - backho2301@gmail.com', 'customUrl': '@geean84', 'publishedAt': '2020-07-15T08:12:12.152457Z', 'thumbnails': {'default': {'url': 'https://yt3.ggpht.com/7FpdURFc6IBdzsajdWRFY6T6NQE7VY368erLJ0L1yasoZF_8wu15ejo86cGicy1OkXP98y5v5g=s88-c-k-c0x00ffffff-no-rj', 'width': 88, 'height': 88}, 'medium': {'url': 'https://yt3.ggpht.com/7FpdURFc6IBdzsajdWRFY6T6NQE7VY368erLJ0L1yasoZF_8wu15ejo86cGicy1OkXP98y5v5g=s240-c-k-c0x00ffffff-no-rj', 'width': 240, 'height': 240}, 'high': {'url': 'https://yt3.ggpht.com/7FpdURFc6IBdzsajdWRFY6T6NQE7VY368erLJ0L1yasoZF_8wu15ejo86cGicy1OkXP98y5v5g=s800-c-k-c0x00ffffff-no-rj', 'width': 800, 'height': 800}}, 'localized': {'title': '인생84', 'description': '남극의 황제 펭귄이  \\n먹이를 소화시켜 자식에게\\n펭귄 밀크를 토 해내듯,\\n저 또한\\n흘러간 인생을 소화시켜,\\n영양가 있는 인생 밀크를\\n만들어보려 합니다.\\n맛잇고 영양가 있는\\n밀크를 만들도록 노력 해보겠습니다.\\n\\n이곳 인생84에서 .\\n\\n비지니스  문의 Email - backho2301@gmail.com'}, 'country': 'KR'}, 'contentDetails': {'relatedPlaylists': {'likes': '', 'uploads': 'UU1Rz7a_DWtsE9cQwSyElE0Q'}}, 'statistics': {'viewCount': '186783430', 'subscriberCount': '1180000', 'hiddenSubscriberCount': False, 'videoCount': '245'}, 'topicDetails': {'topicIds': ['/m/019_rr'], 'topicCategories': ['https://en.wikipedia.org/wiki/Lifestyle_(sociology)']}, 'status': {'privacyStatus': 'public', 'isLinked': True, 'longUploadsStatus': 'longUploadsUnspecified', 'madeForKids': False}, 'brandingSettings': {'channel': {'title': '인생84', 'description': '남극의 황제 펭귄이  \\n먹이를 소화시켜 자식에게\\n펭귄 밀크를 토 해내듯,\\n저 또한\\n흘러간 인생을 소화시켜,\\n영양가 있는 인생 밀크를\\n만들어보려 합니다.\\n맛잇고 영양가 있는\\n밀크를 만들도록 노력 해보겠습니다.\\n\\n이곳 인생84에서 .\\n\\n비지니스  문의 Email - backho2301@gmail.com', 'unsubscribedTrailer': 'lTZJ0og5TJM', 'country': 'KR'}, 'image': {'bannerExternalUrl': 'https://yt3.googleusercontent.com/uc4xMdcAz2Gf5AFLPRuAqWYlgvU7Lx6194M3ZZrMJHU_tHqfMDasBQekUW49fydCcG6qJROCdw'}}}]}\n",
      "{'kind': 'youtube#channelListResponse', 'etag': '4pSzDg2eI3yPbYZ3aiiHsFx3sIo', 'pageInfo': {'totalResults': 1, 'resultsPerPage': 5}, 'items': [{'kind': 'youtube#channel', 'etag': 'bS5DU-Vq_YXMmGLukKK7ubuRp-I', 'id': 'UCA6Z6cF3orXMmdeCPUH1-NA', 'snippet': {'title': '카더정원', 'description': '카더가든이다ㅋ\\n\\n비즈니스 문의 : carthejungwon@gmail.com\\n', 'customUrl': '@carthejungwon', 'publishedAt': '2024-01-03T08:59:09.613561Z', 'thumbnails': {'default': {'url': 'https://yt3.ggpht.com/7wgZsN7aqP--_a2sVU9OZYmXZVpAhcsCr8OO8KAeI5Tcv9xUYLGy5H0ObpUgW0hS21cF_sGEjA=s88-c-k-c0x00ffffff-no-rj', 'width': 88, 'height': 88}, 'medium': {'url': 'https://yt3.ggpht.com/7wgZsN7aqP--_a2sVU9OZYmXZVpAhcsCr8OO8KAeI5Tcv9xUYLGy5H0ObpUgW0hS21cF_sGEjA=s240-c-k-c0x00ffffff-no-rj', 'width': 240, 'height': 240}, 'high': {'url': 'https://yt3.ggpht.com/7wgZsN7aqP--_a2sVU9OZYmXZVpAhcsCr8OO8KAeI5Tcv9xUYLGy5H0ObpUgW0hS21cF_sGEjA=s800-c-k-c0x00ffffff-no-rj', 'width': 800, 'height': 800}}, 'localized': {'title': '카더정원', 'description': '카더가든이다ㅋ\\n\\n비즈니스 문의 : carthejungwon@gmail.com\\n'}, 'country': 'KR'}, 'contentDetails': {'relatedPlaylists': {'likes': '', 'uploads': 'UUA6Z6cF3orXMmdeCPUH1-NA'}}, 'statistics': {'viewCount': '253973969', 'subscriberCount': '662000', 'hiddenSubscriberCount': False, 'videoCount': '309'}, 'topicDetails': {'topicIds': ['/m/02jjt', '/m/02vxn'], 'topicCategories': ['https://en.wikipedia.org/wiki/Entertainment', 'https://en.wikipedia.org/wiki/Film']}, 'status': {'privacyStatus': 'public', 'isLinked': True, 'longUploadsStatus': 'longUploadsUnspecified', 'madeForKids': False}, 'brandingSettings': {'channel': {'title': '카더정원', 'description': '카더가든이다ㅋ\\n\\n비즈니스 문의 : carthejungwon@gmail.com\\n', 'keywords': '카더가든 carthegarden 카더정원 carthejungwon', 'country': 'KR'}, 'image': {'bannerExternalUrl': 'https://yt3.googleusercontent.com/a-jzOOyCdJSspyASP64U668VLRC2dSJpGOs4w2VFlpo4OzNshnFcrNm2e9A9NnhKLKEVtC73Yw'}}}]}\n"
     ]
    }
   ],
   "source": [
    "result = []\n",
    "for name, channel in zip(channel_name, channel_lst):\n",
    "    with open('./'+ channel + '/' + 'chanel_info.json', 'r', encoding='utf-8') as file:\n",
    "        data = json.load(file)\n",
    "    print(data)\n",
    "    items = data['items']\n",
    "    uId = items[0]['id']\n",
    "    title = items[0]['snippet']['title']\n",
    "    description = items[0]['snippet']['description']\n",
    "    publishedAt = items[0]['snippet']['publishedAt']\n",
    "    thumbnails = items[0]['snippet']['thumbnails']['default']['url']\n",
    "    viewCount = items[0]['statistics']['viewCount']\n",
    "    subscriberCount = items[0]['statistics']['subscriberCount']\n",
    "    videoCount = items[0]['statistics']['videoCount']\n",
    "    topicCategories = items[0]['topicDetails']['topicCategories']\n",
    "    dataTime = formatted_time\n",
    "    result.append([name, uId, title, description, publishedAt, thumbnails, viewCount, subscriberCount, videoCount, topicCategories, dataTime])"
   ]
  },
  {
   "cell_type": "code",
   "execution_count": 26,
   "metadata": {},
   "outputs": [],
   "source": [
    "df_c = pd.DataFrame(result)"
   ]
  },
  {
   "cell_type": "code",
   "execution_count": 29,
   "metadata": {},
   "outputs": [],
   "source": [
    "df_c = df_c.reset_index()\n",
    "df_c.columns = columns_name"
   ]
  },
  {
   "cell_type": "code",
   "execution_count": 31,
   "metadata": {},
   "outputs": [],
   "source": [
    "df_c.to_csv('channel_v1.csv', index=False)"
   ]
  },
  {
   "cell_type": "code",
   "execution_count": 41,
   "metadata": {},
   "outputs": [
    {
     "data": {
      "text/plain": [
       "10"
      ]
     },
     "execution_count": 41,
     "metadata": {},
     "output_type": "execute_result"
    }
   ],
   "source": [
    "table_name = \"Channel\"  # 저장할 테이블 이름\n",
    "df_c.to_sql(table_name, engine, if_exists=\"replace\", index=False)"
   ]
  },
  {
   "cell_type": "markdown",
   "metadata": {},
   "source": [
    "### Video"
   ]
  },
  {
   "cell_type": "code",
   "execution_count": 82,
   "metadata": {},
   "outputs": [],
   "source": [
    "columns_name = ['channel_id', 'vId','videoTitle', 'videoDescription', 'videoPublishedAt', 'videoThumbnails', 'tags', 'categoryId', 'liveBroadcastContent', 'videoViewCount', 'videoLikeCount', 'videoDislikeCount', 'commentCount', 'topicDetails']"
   ]
  },
  {
   "cell_type": "code",
   "execution_count": 83,
   "metadata": {},
   "outputs": [],
   "source": [
    "result = []\n",
    "for channel_id, channel in zip(range(len(channel_lst)), channel_lst):\n",
    "    files = os.listdir(channel)\n",
    "    files = [x for x in files if x.find('video_') != -1]\n",
    "    for f in files:\n",
    "        with open('./'+ channel + '/' + f, 'r', encoding='utf-8') as file:\n",
    "            data = json.load(file)\n",
    "        # print(data)\n",
    "        itmes = data['items']\n",
    "        vId = itmes[0]['id']\n",
    "        videoTitle = itmes[0]['snippet']['title']\n",
    "        videoDescription = itmes[0]['snippet']['description']\n",
    "        videoPublishedAt = itmes[0]['snippet']['publishedAt']\n",
    "        videoThumbnails = itmes[0]['snippet']['thumbnails']['default']['url']\n",
    "        tags = itmes[0]['snippet'].get('tags')\n",
    "        categoryId = itmes[0]['snippet']['categoryId']\n",
    "        liveBroadcastContent = itmes[0]['snippet']['liveBroadcastContent']\n",
    "        \n",
    "        videoViewCount = itmes[0]['statistics']['viewCount']\n",
    "        videoLikeCount = itmes[0]['statistics'].get('likeCount')\n",
    "        # print(videoLikeCount)\n",
    "        videoDislikeCount = itmes[0]['statistics'].get('dislikeCount')\n",
    "        commentCount = itmes[0]['statistics'].get('commentCount')\n",
    "        topicDetails = itmes[0].get('topicDetails')\n",
    "        if topicDetails:\n",
    "            topicDetails = topicDetails['topicCategories']\n",
    "            \n",
    "        result.append([channel_id, vId, videoTitle, videoDescription, videoPublishedAt, videoThumbnails, tags,\n",
    "                       categoryId, liveBroadcastContent, videoViewCount, videoLikeCount, \n",
    "                       videoDislikeCount, commentCount, topicDetails])\n",
    "    "
   ]
  },
  {
   "cell_type": "code",
   "execution_count": 84,
   "metadata": {},
   "outputs": [],
   "source": [
    "df_v = pd.DataFrame(result, columns=columns_name)"
   ]
  },
  {
   "cell_type": "code",
   "execution_count": 88,
   "metadata": {},
   "outputs": [],
   "source": [
    "df_v = df_v.sort_values(['channel_id', 'videoPublishedAt'])"
   ]
  },
  {
   "cell_type": "code",
   "execution_count": 91,
   "metadata": {},
   "outputs": [
    {
     "data": {
      "text/plain": [
       "2191"
      ]
     },
     "execution_count": 91,
     "metadata": {},
     "output_type": "execute_result"
    }
   ],
   "source": [
    "len(df_v)"
   ]
  },
  {
   "cell_type": "code",
   "execution_count": 89,
   "metadata": {},
   "outputs": [
    {
     "data": {
      "text/html": [
       "<div>\n",
       "<style scoped>\n",
       "    .dataframe tbody tr th:only-of-type {\n",
       "        vertical-align: middle;\n",
       "    }\n",
       "\n",
       "    .dataframe tbody tr th {\n",
       "        vertical-align: top;\n",
       "    }\n",
       "\n",
       "    .dataframe thead th {\n",
       "        text-align: right;\n",
       "    }\n",
       "</style>\n",
       "<table border=\"1\" class=\"dataframe\">\n",
       "  <thead>\n",
       "    <tr style=\"text-align: right;\">\n",
       "      <th></th>\n",
       "      <th>channel_id</th>\n",
       "      <th>vId</th>\n",
       "      <th>videoTitle</th>\n",
       "      <th>videoDescription</th>\n",
       "      <th>videoPublishedAt</th>\n",
       "      <th>videoThumbnails</th>\n",
       "      <th>tags</th>\n",
       "      <th>categoryId</th>\n",
       "      <th>liveBroadcastContent</th>\n",
       "      <th>videoViewCount</th>\n",
       "      <th>videoLikeCount</th>\n",
       "      <th>videoDislikeCount</th>\n",
       "      <th>commentCount</th>\n",
       "      <th>topicDetails</th>\n",
       "    </tr>\n",
       "  </thead>\n",
       "  <tbody>\n",
       "    <tr>\n",
       "      <th>161</th>\n",
       "      <td>0</td>\n",
       "      <td>yRHHNfkCcoM</td>\n",
       "      <td>김연아씨에게 할 말이 있습니다</td>\n",
       "      <td>#김연아 #피식대학 #정재형</td>\n",
       "      <td>2022-07-25T06:42:57Z</td>\n",
       "      <td>https://i.ytimg.com/vi/yRHHNfkCcoM/default.jpg</td>\n",
       "      <td>None</td>\n",
       "      <td>23</td>\n",
       "      <td>none</td>\n",
       "      <td>702484</td>\n",
       "      <td>11255</td>\n",
       "      <td>None</td>\n",
       "      <td>939</td>\n",
       "      <td>None</td>\n",
       "    </tr>\n",
       "    <tr>\n",
       "      <th>117</th>\n",
       "      <td>0</td>\n",
       "      <td>fcJP82byDZc</td>\n",
       "      <td>(중년커버) A Whole New World - Aladdin OST (알라딘) C...</td>\n",
       "      <td>#한사랑산악회 #배용길 #나점례 #awholenewworld #aladdin</td>\n",
       "      <td>2022-07-25T11:15:13Z</td>\n",
       "      <td>https://i.ytimg.com/vi/fcJP82byDZc/default.jpg</td>\n",
       "      <td>None</td>\n",
       "      <td>23</td>\n",
       "      <td>none</td>\n",
       "      <td>237070</td>\n",
       "      <td>4691</td>\n",
       "      <td>None</td>\n",
       "      <td>608</td>\n",
       "      <td>[https://en.wikipedia.org/wiki/Music]</td>\n",
       "    </tr>\n",
       "    <tr>\n",
       "      <th>228</th>\n",
       "      <td>0</td>\n",
       "      <td>bW_aXDkr6kw</td>\n",
       "      <td>그동안 영상을 못 올린 이유...</td>\n",
       "      <td>#피식대학 #로니앤스티브 #폐업</td>\n",
       "      <td>2022-07-29T12:00:11Z</td>\n",
       "      <td>https://i.ytimg.com/vi/bW_aXDkr6kw/default.jpg</td>\n",
       "      <td>None</td>\n",
       "      <td>23</td>\n",
       "      <td>none</td>\n",
       "      <td>558310</td>\n",
       "      <td>6202</td>\n",
       "      <td>None</td>\n",
       "      <td>480</td>\n",
       "      <td>[https://en.wikipedia.org/wiki/Lifestyle_(soci...</td>\n",
       "    </tr>\n",
       "  </tbody>\n",
       "</table>\n",
       "</div>"
      ],
      "text/plain": [
       "     channel_id          vId  \\\n",
       "161           0  yRHHNfkCcoM   \n",
       "117           0  fcJP82byDZc   \n",
       "228           0  bW_aXDkr6kw   \n",
       "\n",
       "                                            videoTitle  \\\n",
       "161                                   김연아씨에게 할 말이 있습니다   \n",
       "117  (중년커버) A Whole New World - Aladdin OST (알라딘) C...   \n",
       "228                                 그동안 영상을 못 올린 이유...   \n",
       "\n",
       "                               videoDescription      videoPublishedAt  \\\n",
       "161                             #김연아 #피식대학 #정재형  2022-07-25T06:42:57Z   \n",
       "117  #한사랑산악회 #배용길 #나점례 #awholenewworld #aladdin  2022-07-25T11:15:13Z   \n",
       "228                           #피식대학 #로니앤스티브 #폐업  2022-07-29T12:00:11Z   \n",
       "\n",
       "                                    videoThumbnails  tags categoryId  \\\n",
       "161  https://i.ytimg.com/vi/yRHHNfkCcoM/default.jpg  None         23   \n",
       "117  https://i.ytimg.com/vi/fcJP82byDZc/default.jpg  None         23   \n",
       "228  https://i.ytimg.com/vi/bW_aXDkr6kw/default.jpg  None         23   \n",
       "\n",
       "    liveBroadcastContent videoViewCount videoLikeCount videoDislikeCount  \\\n",
       "161                 none         702484          11255              None   \n",
       "117                 none         237070           4691              None   \n",
       "228                 none         558310           6202              None   \n",
       "\n",
       "    commentCount                                       topicDetails  \n",
       "161          939                                               None  \n",
       "117          608              [https://en.wikipedia.org/wiki/Music]  \n",
       "228          480  [https://en.wikipedia.org/wiki/Lifestyle_(soci...  "
      ]
     },
     "execution_count": 89,
     "metadata": {},
     "output_type": "execute_result"
    }
   ],
   "source": [
    "df_v.head(3)"
   ]
  },
  {
   "cell_type": "code",
   "execution_count": 90,
   "metadata": {},
   "outputs": [
    {
     "data": {
      "text/plain": [
       "191"
      ]
     },
     "execution_count": 90,
     "metadata": {},
     "output_type": "execute_result"
    }
   ],
   "source": [
    "df_v.to_sql('Video', engine, if_exists=\"replace\", index=False)"
   ]
  },
  {
   "cell_type": "markdown",
   "metadata": {},
   "source": [
    "### Comments"
   ]
  },
  {
   "cell_type": "code",
   "execution_count": 101,
   "metadata": {},
   "outputs": [],
   "source": [
    "columns_name = ['vId', 'cId', 'textDisplay', 'authorDisplayName', 'likeCount', 'commentPublishedAt', 'commentUpdatedAt', 'replyCount', 'replies']"
   ]
  },
  {
   "cell_type": "code",
   "execution_count": 100,
   "metadata": {},
   "outputs": [],
   "source": [
    "result = []\n",
    "for channel_id, channel in zip(range(len(channel_lst)), channel_lst):\n",
    "    files = os.listdir(channel)\n",
    "    files = [x for x in files if x.find('comment_') != -1]\n",
    "    for f in files:\n",
    "        with open('./'+ channel + '/' + f, 'r', encoding='utf-8') as file:\n",
    "            data = json.load(file)\n",
    "\n",
    "        itmes = data['items']\n",
    "        vId = itmes[0]['snippet']['videoId']\n",
    "        cId = itmes[0]['id']\n",
    "        \n",
    "        textDisplay = itmes[0]['snippet']['topLevelComment']['snippet']['textDisplay']\n",
    "        authorDisplayName = itmes[0]['snippet']['topLevelComment']['snippet']['authorDisplayName']\n",
    "        likeCount = itmes[0]['snippet']['topLevelComment']['snippet']['likeCount']\n",
    "        commentPublishedAt = itmes[0]['snippet']['topLevelComment']['snippet']['publishedAt']\n",
    "        commentUpdatedAt = itmes[0]['snippet']['topLevelComment']['snippet']['updatedAt']\n",
    "        replyCount = itmes[0]['snippet']['totalReplyCount']\n",
    "        \n",
    "        replies_lst = itmes[0].get('replies')\n",
    "        if replies_lst:\n",
    "            replies = [x['snippet']['textDisplay'] for x in replies_lst['comments']]\n",
    "            \n",
    "        result.append([vId, cId, textDisplay, authorDisplayName, likeCount, commentPublishedAt, commentUpdatedAt, replyCount, replies])\n",
    "    "
   ]
  },
  {
   "cell_type": "code",
   "execution_count": 102,
   "metadata": {},
   "outputs": [],
   "source": [
    "df_co = pd.DataFrame(result, columns=columns_name)"
   ]
  },
  {
   "cell_type": "code",
   "execution_count": 107,
   "metadata": {},
   "outputs": [
    {
     "data": {
      "text/plain": [
       "6092"
      ]
     },
     "execution_count": 107,
     "metadata": {},
     "output_type": "execute_result"
    }
   ],
   "source": [
    "len(df_co)"
   ]
  },
  {
   "cell_type": "code",
   "execution_count": 106,
   "metadata": {},
   "outputs": [
    {
     "data": {
      "text/html": [
       "<div>\n",
       "<style scoped>\n",
       "    .dataframe tbody tr th:only-of-type {\n",
       "        vertical-align: middle;\n",
       "    }\n",
       "\n",
       "    .dataframe tbody tr th {\n",
       "        vertical-align: top;\n",
       "    }\n",
       "\n",
       "    .dataframe thead th {\n",
       "        text-align: right;\n",
       "    }\n",
       "</style>\n",
       "<table border=\"1\" class=\"dataframe\">\n",
       "  <thead>\n",
       "    <tr style=\"text-align: right;\">\n",
       "      <th></th>\n",
       "      <th>vId</th>\n",
       "      <th>cId</th>\n",
       "      <th>textDisplay</th>\n",
       "      <th>authorDisplayName</th>\n",
       "      <th>likeCount</th>\n",
       "      <th>commentPublishedAt</th>\n",
       "      <th>commentUpdatedAt</th>\n",
       "      <th>replyCount</th>\n",
       "      <th>replies</th>\n",
       "    </tr>\n",
       "  </thead>\n",
       "  <tbody>\n",
       "    <tr>\n",
       "      <th>0</th>\n",
       "      <td>hBgp-u5aEtE</td>\n",
       "      <td>UgyXRQTTnO45AQfIPjV4AaABAg</td>\n",
       "      <td>길은지의 닉네임을 정해주세요&lt;br&gt;1.옥순&lt;br&gt;2.영자&lt;br&gt;3.영숙&lt;br&gt;4.영...</td>\n",
       "      <td>@피식대학</td>\n",
       "      <td>1938</td>\n",
       "      <td>2023-02-11T12:21:00Z</td>\n",
       "      <td>2023-02-11T12:26:37Z</td>\n",
       "      <td>466</td>\n",
       "      <td>[간략히, 1, 춘자 ㄱ, 옥순 한 표용, 2번도 영자고 4번도 영자네요...? 전...</td>\n",
       "    </tr>\n",
       "    <tr>\n",
       "      <th>1</th>\n",
       "      <td>EkCY92AlzqU</td>\n",
       "      <td>UgyN5CT08NW28_-gvAR4AaABAg</td>\n",
       "      <td>아콰피나 무슨 홍보 때문에 나온게 아니라 진짜 한국에 놀러 왔다가 피식쇼에 출연한게...</td>\n",
       "      <td>@9birdwatching</td>\n",
       "      <td>5735</td>\n",
       "      <td>2024-02-25T10:58:53Z</td>\n",
       "      <td>2024-02-25T10:58:53Z</td>\n",
       "      <td>9</td>\n",
       "      <td>[아마 엘에이 교포 친구들이 소개해준듯요 ㅋㅋ 아콰피나 파티에서 만난적 있는데 엄첨...</td>\n",
       "    </tr>\n",
       "    <tr>\n",
       "      <th>2</th>\n",
       "      <td>fhxzI81iDUA</td>\n",
       "      <td>UgxDsePGUwEQEODBl6F4AaABAg</td>\n",
       "      <td>좋아요 안누르면 반동분자로 간주하거쏘. &lt;br&gt;-레릴리</td>\n",
       "      <td>@aileemusic</td>\n",
       "      <td>14491</td>\n",
       "      <td>2023-10-01T11:18:33Z</td>\n",
       "      <td>2023-10-01T11:18:33Z</td>\n",
       "      <td>97</td>\n",
       "      <td>[레릴리 이쁜줄은 알았는데 오늘은 겁나이쁘다!!, You have become pr...</td>\n",
       "    </tr>\n",
       "  </tbody>\n",
       "</table>\n",
       "</div>"
      ],
      "text/plain": [
       "           vId                         cId  \\\n",
       "0  hBgp-u5aEtE  UgyXRQTTnO45AQfIPjV4AaABAg   \n",
       "1  EkCY92AlzqU  UgyN5CT08NW28_-gvAR4AaABAg   \n",
       "2  fhxzI81iDUA  UgxDsePGUwEQEODBl6F4AaABAg   \n",
       "\n",
       "                                         textDisplay authorDisplayName  \\\n",
       "0  길은지의 닉네임을 정해주세요<br>1.옥순<br>2.영자<br>3.영숙<br>4.영...             @피식대학   \n",
       "1  아콰피나 무슨 홍보 때문에 나온게 아니라 진짜 한국에 놀러 왔다가 피식쇼에 출연한게...    @9birdwatching   \n",
       "2                     좋아요 안누르면 반동분자로 간주하거쏘. <br>-레릴리       @aileemusic   \n",
       "\n",
       "   likeCount    commentPublishedAt      commentUpdatedAt  replyCount  \\\n",
       "0       1938  2023-02-11T12:21:00Z  2023-02-11T12:26:37Z         466   \n",
       "1       5735  2024-02-25T10:58:53Z  2024-02-25T10:58:53Z           9   \n",
       "2      14491  2023-10-01T11:18:33Z  2023-10-01T11:18:33Z          97   \n",
       "\n",
       "                                             replies  \n",
       "0  [간략히, 1, 춘자 ㄱ, 옥순 한 표용, 2번도 영자고 4번도 영자네요...? 전...  \n",
       "1  [아마 엘에이 교포 친구들이 소개해준듯요 ㅋㅋ 아콰피나 파티에서 만난적 있는데 엄첨...  \n",
       "2  [레릴리 이쁜줄은 알았는데 오늘은 겁나이쁘다!!, You have become pr...  "
      ]
     },
     "execution_count": 106,
     "metadata": {},
     "output_type": "execute_result"
    }
   ],
   "source": [
    "df_co.head(3)"
   ]
  },
  {
   "cell_type": "code",
   "execution_count": 104,
   "metadata": {},
   "outputs": [
    {
     "data": {
      "text/plain": [
       "92"
      ]
     },
     "execution_count": 104,
     "metadata": {},
     "output_type": "execute_result"
    }
   ],
   "source": [
    "df_co.to_sql('Comments', engine, if_exists=\"replace\", index=False)"
   ]
  },
  {
   "cell_type": "code",
   "execution_count": 115,
   "metadata": {},
   "outputs": [],
   "source": [
    "query = f'SELECT * FROM public.\"Comments\"'\n",
    "comments_df = pd.read_sql(query, engine)"
   ]
  },
  {
   "cell_type": "code",
   "execution_count": 116,
   "metadata": {},
   "outputs": [
    {
     "data": {
      "text/html": [
       "<div>\n",
       "<style scoped>\n",
       "    .dataframe tbody tr th:only-of-type {\n",
       "        vertical-align: middle;\n",
       "    }\n",
       "\n",
       "    .dataframe tbody tr th {\n",
       "        vertical-align: top;\n",
       "    }\n",
       "\n",
       "    .dataframe thead th {\n",
       "        text-align: right;\n",
       "    }\n",
       "</style>\n",
       "<table border=\"1\" class=\"dataframe\">\n",
       "  <thead>\n",
       "    <tr style=\"text-align: right;\">\n",
       "      <th></th>\n",
       "      <th>vId</th>\n",
       "      <th>cId</th>\n",
       "      <th>textDisplay</th>\n",
       "      <th>authorDisplayName</th>\n",
       "      <th>likeCount</th>\n",
       "      <th>commentPublishedAt</th>\n",
       "      <th>commentUpdatedAt</th>\n",
       "      <th>replyCount</th>\n",
       "      <th>replies</th>\n",
       "    </tr>\n",
       "  </thead>\n",
       "  <tbody>\n",
       "    <tr>\n",
       "      <th>0</th>\n",
       "      <td>hBgp-u5aEtE</td>\n",
       "      <td>UgyXRQTTnO45AQfIPjV4AaABAg</td>\n",
       "      <td>길은지의 닉네임을 정해주세요&lt;br&gt;1.옥순&lt;br&gt;2.영자&lt;br&gt;3.영숙&lt;br&gt;4.영...</td>\n",
       "      <td>@피식대학</td>\n",
       "      <td>1938</td>\n",
       "      <td>2023-02-11T12:21:00Z</td>\n",
       "      <td>2023-02-11T12:26:37Z</td>\n",
       "      <td>466</td>\n",
       "      <td>{간략히,1,\"춘자 ㄱ\",\"옥순 한 표용\",\"2번도 영자고 4번도 영자네요...? ...</td>\n",
       "    </tr>\n",
       "    <tr>\n",
       "      <th>1</th>\n",
       "      <td>EkCY92AlzqU</td>\n",
       "      <td>UgyN5CT08NW28_-gvAR4AaABAg</td>\n",
       "      <td>아콰피나 무슨 홍보 때문에 나온게 아니라 진짜 한국에 놀러 왔다가 피식쇼에 출연한게...</td>\n",
       "      <td>@9birdwatching</td>\n",
       "      <td>5735</td>\n",
       "      <td>2024-02-25T10:58:53Z</td>\n",
       "      <td>2024-02-25T10:58:53Z</td>\n",
       "      <td>9</td>\n",
       "      <td>{\"아마 엘에이 교포 친구들이 소개해준듯요 ㅋㅋ 아콰피나 파티에서 만난적 있는데 엄...</td>\n",
       "    </tr>\n",
       "    <tr>\n",
       "      <th>2</th>\n",
       "      <td>fhxzI81iDUA</td>\n",
       "      <td>UgxDsePGUwEQEODBl6F4AaABAg</td>\n",
       "      <td>좋아요 안누르면 반동분자로 간주하거쏘. &lt;br&gt;-레릴리</td>\n",
       "      <td>@aileemusic</td>\n",
       "      <td>14491</td>\n",
       "      <td>2023-10-01T11:18:33Z</td>\n",
       "      <td>2023-10-01T11:18:33Z</td>\n",
       "      <td>97</td>\n",
       "      <td>{\"레릴리 이쁜줄은 알았는데 오늘은 겁나이쁘다!!\",\"You have become ...</td>\n",
       "    </tr>\n",
       "    <tr>\n",
       "      <th>3</th>\n",
       "      <td>MyhnfHQJUWk</td>\n",
       "      <td>Ugwwr6CZIvazgoTzQr14AaABAg</td>\n",
       "      <td>그냥 누구세요 부터 끝났잖앜ㅋㅋㅋㅋㅋㅋㅋㅋㅋㅋㅋㅋㅋㅋㅋㅋㅋㅋㅋㅋㅋㅋㅋㅋㅋㅋ</td>\n",
       "      <td>@vo2ce251</td>\n",
       "      <td>2437</td>\n",
       "      <td>2024-12-21T10:11:56Z</td>\n",
       "      <td>2024-12-21T10:11:56Z</td>\n",
       "      <td>9</td>\n",
       "      <td>{\"ㅋㅋ 마니 긁혔어 ㅋㅋㅋ 첨지 춘봉앜빠 승\",\"솔직히 영우가 동나이대에서 제일 ...</td>\n",
       "    </tr>\n",
       "    <tr>\n",
       "      <th>4</th>\n",
       "      <td>I7yaklZTSiQ</td>\n",
       "      <td>UgxSAQXWomyZ2Qfl-L14AaABAg</td>\n",
       "      <td>재형이형님 눈썹 미셨나</td>\n",
       "      <td>@Halloweencandy.</td>\n",
       "      <td>2</td>\n",
       "      <td>2024-12-09T05:27:46Z</td>\n",
       "      <td>2024-12-09T05:27:46Z</td>\n",
       "      <td>0</td>\n",
       "      <td>{\"ㅋㅋ 마니 긁혔어 ㅋㅋㅋ 첨지 춘봉앜빠 승\",\"솔직히 영우가 동나이대에서 제일 ...</td>\n",
       "    </tr>\n",
       "    <tr>\n",
       "      <th>...</th>\n",
       "      <td>...</td>\n",
       "      <td>...</td>\n",
       "      <td>...</td>\n",
       "      <td>...</td>\n",
       "      <td>...</td>\n",
       "      <td>...</td>\n",
       "      <td>...</td>\n",
       "      <td>...</td>\n",
       "      <td>...</td>\n",
       "    </tr>\n",
       "    <tr>\n",
       "      <th>6087</th>\n",
       "      <td>xxhiOsXgJ8c</td>\n",
       "      <td>UgwPst6zkXPsef4aEol4AaABAg</td>\n",
       "      <td>귀한분 모셔놓고 습관성ㅋㅋㅋ&lt;br&gt;이준혁❤❤</td>\n",
       "      <td>@PJE0818</td>\n",
       "      <td>3</td>\n",
       "      <td>2025-01-09T10:57:03Z</td>\n",
       "      <td>2025-01-09T10:57:03Z</td>\n",
       "      <td>0</td>\n",
       "      <td>{심심하네요,\"솔직히 누가 남고에 장기하 님을 부를 거라고 예상했을까&lt;br&gt;영상 보...</td>\n",
       "    </tr>\n",
       "    <tr>\n",
       "      <th>6088</th>\n",
       "      <td>ViORd1jnaVA</td>\n",
       "      <td>Ugw5_XWZ2H2_kzUBM0V4AaABAg</td>\n",
       "      <td>개꾸릉네님 비흡연자인 저도 사고싶어지네요</td>\n",
       "      <td>@oUo-_-oUo</td>\n",
       "      <td>0</td>\n",
       "      <td>2024-03-27T03:20:27Z</td>\n",
       "      <td>2024-03-27T03:20:27Z</td>\n",
       "      <td>0</td>\n",
       "      <td>{심심하네요,\"솔직히 누가 남고에 장기하 님을 부를 거라고 예상했을까&lt;br&gt;영상 보...</td>\n",
       "    </tr>\n",
       "    <tr>\n",
       "      <th>6089</th>\n",
       "      <td>j5JzbcivCcw</td>\n",
       "      <td>UgwaAy_jXcITHWmyi1R4AaABAg</td>\n",
       "      <td>역시 연기자는 다르네 ㅎㅎ진짜 맛깔지게 잘하심ㅎ 의성배우님 서윗하심</td>\n",
       "      <td>@momor243</td>\n",
       "      <td>29</td>\n",
       "      <td>2024-02-10T19:37:42Z</td>\n",
       "      <td>2024-02-10T19:37:42Z</td>\n",
       "      <td>0</td>\n",
       "      <td>{심심하네요,\"솔직히 누가 남고에 장기하 님을 부를 거라고 예상했을까&lt;br&gt;영상 보...</td>\n",
       "    </tr>\n",
       "    <tr>\n",
       "      <th>6090</th>\n",
       "      <td>AZG2P3JjYoI</td>\n",
       "      <td>Ugx6pxbz9dM1sa35_y14AaABAg</td>\n",
       "      <td>고등학교 봉사활동으로 선플달기 활동중입니다 카더정원 유튜브 항상 잘 보고 있어요 오...</td>\n",
       "      <td>@팬이아닌아저씨는-n5j</td>\n",
       "      <td>3</td>\n",
       "      <td>2024-11-22T04:29:32Z</td>\n",
       "      <td>2024-11-22T04:29:32Z</td>\n",
       "      <td>0</td>\n",
       "      <td>{심심하네요,\"솔직히 누가 남고에 장기하 님을 부를 거라고 예상했을까&lt;br&gt;영상 보...</td>\n",
       "    </tr>\n",
       "    <tr>\n",
       "      <th>6091</th>\n",
       "      <td>SVclb3bjsUQ</td>\n",
       "      <td>Ugw6MjI8yx8J5U_CWjp4AaABAg</td>\n",
       "      <td>남자가 봐도 존잘이네.. ㄷㄷ</td>\n",
       "      <td>@지훈-m3q</td>\n",
       "      <td>4</td>\n",
       "      <td>2024-08-30T14:27:02Z</td>\n",
       "      <td>2024-08-30T14:27:02Z</td>\n",
       "      <td>0</td>\n",
       "      <td>{심심하네요,\"솔직히 누가 남고에 장기하 님을 부를 거라고 예상했을까&lt;br&gt;영상 보...</td>\n",
       "    </tr>\n",
       "  </tbody>\n",
       "</table>\n",
       "<p>6092 rows × 9 columns</p>\n",
       "</div>"
      ],
      "text/plain": [
       "              vId                         cId  \\\n",
       "0     hBgp-u5aEtE  UgyXRQTTnO45AQfIPjV4AaABAg   \n",
       "1     EkCY92AlzqU  UgyN5CT08NW28_-gvAR4AaABAg   \n",
       "2     fhxzI81iDUA  UgxDsePGUwEQEODBl6F4AaABAg   \n",
       "3     MyhnfHQJUWk  Ugwwr6CZIvazgoTzQr14AaABAg   \n",
       "4     I7yaklZTSiQ  UgxSAQXWomyZ2Qfl-L14AaABAg   \n",
       "...           ...                         ...   \n",
       "6087  xxhiOsXgJ8c  UgwPst6zkXPsef4aEol4AaABAg   \n",
       "6088  ViORd1jnaVA  Ugw5_XWZ2H2_kzUBM0V4AaABAg   \n",
       "6089  j5JzbcivCcw  UgwaAy_jXcITHWmyi1R4AaABAg   \n",
       "6090  AZG2P3JjYoI  Ugx6pxbz9dM1sa35_y14AaABAg   \n",
       "6091  SVclb3bjsUQ  Ugw6MjI8yx8J5U_CWjp4AaABAg   \n",
       "\n",
       "                                            textDisplay authorDisplayName  \\\n",
       "0     길은지의 닉네임을 정해주세요<br>1.옥순<br>2.영자<br>3.영숙<br>4.영...             @피식대학   \n",
       "1     아콰피나 무슨 홍보 때문에 나온게 아니라 진짜 한국에 놀러 왔다가 피식쇼에 출연한게...    @9birdwatching   \n",
       "2                        좋아요 안누르면 반동분자로 간주하거쏘. <br>-레릴리       @aileemusic   \n",
       "3             그냥 누구세요 부터 끝났잖앜ㅋㅋㅋㅋㅋㅋㅋㅋㅋㅋㅋㅋㅋㅋㅋㅋㅋㅋㅋㅋㅋㅋㅋㅋㅋㅋ         @vo2ce251   \n",
       "4                                          재형이형님 눈썹 미셨나  @Halloweencandy.   \n",
       "...                                                 ...               ...   \n",
       "6087                           귀한분 모셔놓고 습관성ㅋㅋㅋ<br>이준혁❤❤          @PJE0818   \n",
       "6088                             개꾸릉네님 비흡연자인 저도 사고싶어지네요        @oUo-_-oUo   \n",
       "6089              역시 연기자는 다르네 ㅎㅎ진짜 맛깔지게 잘하심ㅎ 의성배우님 서윗하심         @momor243   \n",
       "6090  고등학교 봉사활동으로 선플달기 활동중입니다 카더정원 유튜브 항상 잘 보고 있어요 오...     @팬이아닌아저씨는-n5j   \n",
       "6091                                   남자가 봐도 존잘이네.. ㄷㄷ           @지훈-m3q   \n",
       "\n",
       "      likeCount    commentPublishedAt      commentUpdatedAt  replyCount  \\\n",
       "0          1938  2023-02-11T12:21:00Z  2023-02-11T12:26:37Z         466   \n",
       "1          5735  2024-02-25T10:58:53Z  2024-02-25T10:58:53Z           9   \n",
       "2         14491  2023-10-01T11:18:33Z  2023-10-01T11:18:33Z          97   \n",
       "3          2437  2024-12-21T10:11:56Z  2024-12-21T10:11:56Z           9   \n",
       "4             2  2024-12-09T05:27:46Z  2024-12-09T05:27:46Z           0   \n",
       "...         ...                   ...                   ...         ...   \n",
       "6087          3  2025-01-09T10:57:03Z  2025-01-09T10:57:03Z           0   \n",
       "6088          0  2024-03-27T03:20:27Z  2024-03-27T03:20:27Z           0   \n",
       "6089         29  2024-02-10T19:37:42Z  2024-02-10T19:37:42Z           0   \n",
       "6090          3  2024-11-22T04:29:32Z  2024-11-22T04:29:32Z           0   \n",
       "6091          4  2024-08-30T14:27:02Z  2024-08-30T14:27:02Z           0   \n",
       "\n",
       "                                                replies  \n",
       "0     {간략히,1,\"춘자 ㄱ\",\"옥순 한 표용\",\"2번도 영자고 4번도 영자네요...? ...  \n",
       "1     {\"아마 엘에이 교포 친구들이 소개해준듯요 ㅋㅋ 아콰피나 파티에서 만난적 있는데 엄...  \n",
       "2     {\"레릴리 이쁜줄은 알았는데 오늘은 겁나이쁘다!!\",\"You have become ...  \n",
       "3     {\"ㅋㅋ 마니 긁혔어 ㅋㅋㅋ 첨지 춘봉앜빠 승\",\"솔직히 영우가 동나이대에서 제일 ...  \n",
       "4     {\"ㅋㅋ 마니 긁혔어 ㅋㅋㅋ 첨지 춘봉앜빠 승\",\"솔직히 영우가 동나이대에서 제일 ...  \n",
       "...                                                 ...  \n",
       "6087  {심심하네요,\"솔직히 누가 남고에 장기하 님을 부를 거라고 예상했을까<br>영상 보...  \n",
       "6088  {심심하네요,\"솔직히 누가 남고에 장기하 님을 부를 거라고 예상했을까<br>영상 보...  \n",
       "6089  {심심하네요,\"솔직히 누가 남고에 장기하 님을 부를 거라고 예상했을까<br>영상 보...  \n",
       "6090  {심심하네요,\"솔직히 누가 남고에 장기하 님을 부를 거라고 예상했을까<br>영상 보...  \n",
       "6091  {심심하네요,\"솔직히 누가 남고에 장기하 님을 부를 거라고 예상했을까<br>영상 보...  \n",
       "\n",
       "[6092 rows x 9 columns]"
      ]
     },
     "execution_count": 116,
     "metadata": {},
     "output_type": "execute_result"
    }
   ],
   "source": [
    "comments_df"
   ]
  }
 ],
 "metadata": {
  "kernelspec": {
   "display_name": ".venv_sh",
   "language": "python",
   "name": "python3"
  },
  "language_info": {
   "codemirror_mode": {
    "name": "ipython",
    "version": 3
   },
   "file_extension": ".py",
   "mimetype": "text/x-python",
   "name": "python",
   "nbconvert_exporter": "python",
   "pygments_lexer": "ipython3",
   "version": "3.10.13"
  }
 },
 "nbformat": 4,
 "nbformat_minor": 2
}
