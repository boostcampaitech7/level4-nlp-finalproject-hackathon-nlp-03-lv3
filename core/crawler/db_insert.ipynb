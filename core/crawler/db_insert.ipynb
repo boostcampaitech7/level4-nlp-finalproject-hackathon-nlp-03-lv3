{
 "cells": [
  {
   "cell_type": "code",
   "execution_count": 1,
   "metadata": {},
   "outputs": [],
   "source": [
    "import os\n",
    "import json\n",
    "import pandas as pd\n",
    "import pytz\n",
    "from datetime import datetime\n",
    "from sqlalchemy import create_engine\n"
   ]
  },
  {
   "cell_type": "code",
   "execution_count": 2,
   "metadata": {},
   "outputs": [],
   "source": [
    "# 접속 정보\n",
    "host = \"10.28.224.177\"\n",
    "port = 30634\n",
    "database = \"postgres\"\n",
    "username = \"postgres\"\n",
    "password = \"0104\""
   ]
  },
  {
   "cell_type": "code",
   "execution_count": 3,
   "metadata": {},
   "outputs": [],
   "source": [
    "# SQLAlchemy 엔진 생성\n",
    "engine = create_engine(f\"postgresql+psycopg2://{username}:{password}@{host}:{port}/{database}\")"
   ]
  },
  {
   "cell_type": "markdown",
   "metadata": {},
   "source": [
    "# 유튜브 데이터 DB에 저장"
   ]
  },
  {
   "cell_type": "markdown",
   "metadata": {},
   "source": [
    "### channel"
   ]
  },
  {
   "cell_type": "code",
   "execution_count": 4,
   "metadata": {},
   "outputs": [],
   "source": [
    "channel_lst = [\"피식대학\", \"SGBG\", \"swab85\", \"konuri\", \"Yoiki\", \"NERDULT\", \"donghahahaha\", \"JBKWAK\", \"geean84\", \"carthejungwon\"]\n",
    "channel_name = ['피식대학', '싱긍벙글', '승우아빠', '고누리', '가요이', '너덜트', '동하하', '곽튜브', '기안84', '카더정원']"
   ]
  },
  {
   "cell_type": "code",
   "execution_count": 5,
   "metadata": {},
   "outputs": [],
   "source": [
    "columns_name = ['id', 'name' , 'uId', 'title', 'description', 'publishedAt', 'thumbnails', 'viewCount', 'subscriberCount', 'videoCount', 'topicCategories', 'dataTime']"
   ]
  },
  {
   "cell_type": "code",
   "execution_count": 6,
   "metadata": {},
   "outputs": [],
   "source": [
    "# 한국 시간대 설정\n",
    "korea_timezone = pytz.timezone('Asia/Seoul')\n",
    "\n",
    "# 현재 시간 가져오기\n",
    "korea_time = datetime.now(korea_timezone)\n",
    "\n",
    "# 원하는 형식으로 출력 (YYYY-MM-DD)\n",
    "formatted_time = korea_time.strftime('%Y-%m-%d')"
   ]
  },
  {
   "cell_type": "code",
   "execution_count": 23,
   "metadata": {},
   "outputs": [
    {
     "name": "stdout",
     "output_type": "stream",
     "text": [
      "{'kind': 'youtube#channelListResponse', 'etag': 'LXVXij--1XO-PEvmvyJd-aHX-Uc', 'pageInfo': {'totalResults': 1, 'resultsPerPage': 5}, 'items': [{'kind': 'youtube#channel', 'etag': 'X0MC8wQC67nrc7tnpHRGlbgScQQ', 'id': 'UCGX5sP4ehBkihHwt5bs5wvg', 'snippet': {'title': '피식대학Psick Univ', 'description': '코미디 인재 육성 및 연구의 메카 피식대학 \\n\\n✅ 피식대학 비즈니스 메일\\npsickuniv@metacomedy.net\\n\\n✅ 피식대학 사서함\\n(04054) 서울특별시 마포구 와우산로 29가길 42, 메타코미디\\n\\n✅ 피식대학 굿즈 스토어\\nhttps://smartstore.naver.com/psickuniv\\n', 'customUrl': '@피식대학', 'publishedAt': '2019-04-01T05:31:41Z', 'thumbnails': {'default': {'url': 'https://yt3.ggpht.com/FQ61Pjh2In6lt-nd0o6EtWyCRPIlopBzcm-Pz88CzRXE1gZQ-o1OnV8wL-9IzC4aRr52M6q4z8I=s88-c-k-c0x00ffffff-no-rj', 'width': 88, 'height': 88}, 'medium': {'url': 'https://yt3.ggpht.com/FQ61Pjh2In6lt-nd0o6EtWyCRPIlopBzcm-Pz88CzRXE1gZQ-o1OnV8wL-9IzC4aRr52M6q4z8I=s240-c-k-c0x00ffffff-no-rj', 'width': 240, 'height': 240}, 'high': {'url': 'https://yt3.ggpht.com/FQ61Pjh2In6lt-nd0o6EtWyCRPIlopBzcm-Pz88CzRXE1gZQ-o1OnV8wL-9IzC4aRr52M6q4z8I=s800-c-k-c0x00ffffff-no-rj', 'width': 800, 'height': 800}}, 'localized': {'title': '피식대학Psick Univ', 'description': '코미디 인재 육성 및 연구의 메카 피식대학 \\n\\n✅ 피식대학 비즈니스 메일\\npsickuniv@metacomedy.net\\n\\n✅ 피식대학 사서함\\n(04054) 서울특별시 마포구 와우산로 29가길 42, 메타코미디\\n\\n✅ 피식대학 굿즈 스토어\\nhttps://smartstore.naver.com/psickuniv\\n'}, 'country': 'KR'}, 'contentDetails': {'relatedPlaylists': {'likes': '', 'uploads': 'UUGX5sP4ehBkihHwt5bs5wvg'}}, 'statistics': {'viewCount': '2179523566', 'subscriberCount': '2810000', 'hiddenSubscriberCount': False, 'videoCount': '1776'}, 'topicDetails': {'topicIds': ['/m/06ntj'], 'topicCategories': ['https://en.wikipedia.org/wiki/Sport']}, 'status': {'privacyStatus': 'public', 'isLinked': True, 'longUploadsStatus': 'longUploadsUnspecified', 'madeForKids': False}, 'brandingSettings': {'channel': {'title': '피식대학Psick Univ', 'description': '코미디 인재 육성 및 연구의 메카 피식대학 \\n\\n✅ 피식대학 비즈니스 메일\\npsickuniv@metacomedy.net\\n\\n✅ 피식대학 사서함\\n(04054) 서울특별시 마포구 와우산로 29가길 42, 메타코미디\\n\\n✅ 피식대학 굿즈 스토어\\nhttps://smartstore.naver.com/psickuniv\\n', 'country': 'KR'}, 'image': {'bannerExternalUrl': 'https://yt3.googleusercontent.com/7Rt3AwrXGARTA2BZ6IJJ8LjcAumAQFTrNJRNQRrwCRI08KB01uOH9a5Qk68kNC9CA5efNRDN-w'}}}]}\n",
      "{'kind': 'youtube#channelListResponse', 'etag': 'Dsb1yJFqFfP-hjBreGKFemV9J50', 'pageInfo': {'totalResults': 1, 'resultsPerPage': 5}, 'items': [{'kind': 'youtube#channel', 'etag': 'XAEzAxosT9ZqOEbBxIpIPg0LtMk', 'id': 'UC7_CFRfhIj-fSk3patOQOaw', 'snippet': {'title': '싱글벙글 SGBG', 'description': '#싱글벙글 #스케치코미디\\n\\n비즈니스 메일 : sgbgstudio@naver.com\\n\\n\\n', 'customUrl': '@sgbg', 'publishedAt': '2020-12-09T16:00:17.091894Z', 'thumbnails': {'default': {'url': 'https://yt3.ggpht.com/NMese3xj7Q6k4GyetZmY5Av__4sGWlh5OaKCC-ksSUNfhY68Rk4CaNn3gE21fBGEHeLVDNQmEA=s88-c-k-c0x00ffffff-no-rj', 'width': 88, 'height': 88}, 'medium': {'url': 'https://yt3.ggpht.com/NMese3xj7Q6k4GyetZmY5Av__4sGWlh5OaKCC-ksSUNfhY68Rk4CaNn3gE21fBGEHeLVDNQmEA=s240-c-k-c0x00ffffff-no-rj', 'width': 240, 'height': 240}, 'high': {'url': 'https://yt3.ggpht.com/NMese3xj7Q6k4GyetZmY5Av__4sGWlh5OaKCC-ksSUNfhY68Rk4CaNn3gE21fBGEHeLVDNQmEA=s800-c-k-c0x00ffffff-no-rj', 'width': 800, 'height': 800}}, 'defaultLanguage': 'ko', 'localized': {'title': '싱글벙글 SGBG', 'description': '#싱글벙글 #스케치코미디\\n\\n비즈니스 메일 : sgbgstudio@naver.com\\n\\n\\n'}, 'country': 'KR'}, 'contentDetails': {'relatedPlaylists': {'likes': '', 'uploads': 'UU7_CFRfhIj-fSk3patOQOaw'}}, 'statistics': {'viewCount': '1891782093', 'subscriberCount': '1430000', 'hiddenSubscriberCount': False, 'videoCount': '686'}, 'topicDetails': {'topicIds': ['/m/02jjt', '/m/02vxn', '/m/019_rr'], 'topicCategories': ['https://en.wikipedia.org/wiki/Entertainment', 'https://en.wikipedia.org/wiki/Film', 'https://en.wikipedia.org/wiki/Lifestyle_(sociology)']}, 'status': {'privacyStatus': 'public', 'isLinked': True, 'longUploadsStatus': 'longUploadsUnspecified'}, 'brandingSettings': {'channel': {'title': '싱글벙글 SGBG', 'description': '#싱글벙글 #스케치코미디\\n\\n비즈니스 메일 : sgbgstudio@naver.com\\n\\n\\n', 'unsubscribedTrailer': '4CLdIxiNZMs', 'defaultLanguage': 'ko', 'country': 'KR'}, 'image': {'bannerExternalUrl': 'https://yt3.googleusercontent.com/-toJPNNN8r1g0X4mtr1Fa-KDhHKnwTKNNT8FDbuE4WOj4KbbZs8wkqYqWXCS76z9jYgIYiK7KA'}}}]}\n",
      "{'kind': 'youtube#channelListResponse', 'etag': '8-_JZLhPPNeckoch15xBAXXSkfY', 'pageInfo': {'totalResults': 1, 'resultsPerPage': 5}, 'items': [{'kind': 'youtube#channel', 'etag': 'WAiFCxp_5RG9jYO_dhLOr5V9YFo', 'id': 'UCgsffS7MfKL6YU3r_U3E-aA', 'snippet': {'title': '승우아빠', 'description': '눈으로 보기만 할수 있는 채널이 아닌, \\n그냥 스쳐 지나가는 어려운 레시피가 아닌,\\n누구나 따라할 수 있는 레시피 채널을 만들고 싶어요! \\n📪 비즈니스 문의 lia@3ycorp.kr\\n*https://instagram.com/swab_official\\n*https://www.tiktok.com/@swab_official', 'customUrl': '@swab85', 'publishedAt': '2015-03-05T09:36:17Z', 'thumbnails': {'default': {'url': 'https://yt3.ggpht.com/ytc/AIdro_m1ykZ7T3H8P28_2buzn_7ENflWlqILVz4AZGwg0hrxT8g=s88-c-k-c0x00ffffff-no-rj', 'width': 88, 'height': 88}, 'medium': {'url': 'https://yt3.ggpht.com/ytc/AIdro_m1ykZ7T3H8P28_2buzn_7ENflWlqILVz4AZGwg0hrxT8g=s240-c-k-c0x00ffffff-no-rj', 'width': 240, 'height': 240}, 'high': {'url': 'https://yt3.ggpht.com/ytc/AIdro_m1ykZ7T3H8P28_2buzn_7ENflWlqILVz4AZGwg0hrxT8g=s800-c-k-c0x00ffffff-no-rj', 'width': 800, 'height': 800}}, 'localized': {'title': '승우아빠', 'description': '눈으로 보기만 할수 있는 채널이 아닌, \\n그냥 스쳐 지나가는 어려운 레시피가 아닌,\\n누구나 따라할 수 있는 레시피 채널을 만들고 싶어요! \\n📪 비즈니스 문의 lia@3ycorp.kr\\n*https://instagram.com/swab_official\\n*https://www.tiktok.com/@swab_official'}, 'country': 'KR'}, 'contentDetails': {'relatedPlaylists': {'likes': '', 'uploads': 'UUgsffS7MfKL6YU3r_U3E-aA'}}, 'statistics': {'viewCount': '726724589', 'subscriberCount': '1440000', 'hiddenSubscriberCount': False, 'videoCount': '1238'}, 'topicDetails': {'topicIds': ['/m/019_rr', '/m/02wbm'], 'topicCategories': ['https://en.wikipedia.org/wiki/Lifestyle_(sociology)', 'https://en.wikipedia.org/wiki/Food']}, 'status': {'privacyStatus': 'public', 'isLinked': True, 'longUploadsStatus': 'longUploadsUnspecified', 'madeForKids': False}, 'brandingSettings': {'channel': {'title': '승우아빠', 'description': '눈으로 보기만 할수 있는 채널이 아닌, \\n그냥 스쳐 지나가는 어려운 레시피가 아닌,\\n누구나 따라할 수 있는 레시피 채널을 만들고 싶어요! \\n📪 비즈니스 문의 lia@3ycorp.kr\\n*https://instagram.com/swab_official\\n*https://www.tiktok.com/@swab_official', 'keywords': '간단요리; 레시피; 요리; 집밥; 승우아빠;', 'country': 'KR'}, 'image': {'bannerExternalUrl': 'https://yt3.googleusercontent.com/EDYCAG7Z72tRaLhivdh7G2W-GlNzVusH7HPQjACMwacABQIAn_onsuMExIQ-rYLdcz2wlq2wpA'}}}]}\n",
      "{'kind': 'youtube#channelListResponse', 'etag': 'RGMX6x1TVCQr4lFc0GXsYLl6R0s', 'pageInfo': {'totalResults': 1, 'resultsPerPage': 5}, 'items': [{'kind': 'youtube#channel', 'etag': 'R76jzCnxadGF_c0UnTX0WbYWY0c', 'id': 'UCs0P4GrXEumyYn-d8ASrGlA', 'snippet': {'title': '고누리', 'description': '만화 그림 열심히 하겠습니다.\\n모든 문의: konuri2023@gmail.com\\n\\n\\n', 'customUrl': '@konuri', 'publishedAt': '2013-02-26T14:31:16Z', 'thumbnails': {'default': {'url': 'https://yt3.ggpht.com/Ah40-jjuxkgc6FTTWz5EB-th_NwsTQXquGmGx7c8G13_FBMgiNTkDkLjq6_CUM5OTrHsdn2B=s88-c-k-c0x00ffffff-no-rj', 'width': 88, 'height': 88}, 'medium': {'url': 'https://yt3.ggpht.com/Ah40-jjuxkgc6FTTWz5EB-th_NwsTQXquGmGx7c8G13_FBMgiNTkDkLjq6_CUM5OTrHsdn2B=s240-c-k-c0x00ffffff-no-rj', 'width': 240, 'height': 240}, 'high': {'url': 'https://yt3.ggpht.com/Ah40-jjuxkgc6FTTWz5EB-th_NwsTQXquGmGx7c8G13_FBMgiNTkDkLjq6_CUM5OTrHsdn2B=s800-c-k-c0x00ffffff-no-rj', 'width': 800, 'height': 800}}, 'localized': {'title': '고누리', 'description': '만화 그림 열심히 하겠습니다.\\n모든 문의: konuri2023@gmail.com\\n\\n\\n'}, 'country': 'KR'}, 'contentDetails': {'relatedPlaylists': {'likes': '', 'uploads': 'UUs0P4GrXEumyYn-d8ASrGlA'}}, 'statistics': {'viewCount': '1339524809', 'subscriberCount': '2650000', 'hiddenSubscriberCount': False, 'videoCount': '861'}, 'topicDetails': {'topicIds': ['/m/02jjt', '/m/02vxn'], 'topicCategories': ['https://en.wikipedia.org/wiki/Entertainment', 'https://en.wikipedia.org/wiki/Film']}, 'status': {'privacyStatus': 'public', 'isLinked': True, 'longUploadsStatus': 'longUploadsUnspecified', 'madeForKids': False}, 'brandingSettings': {'channel': {'title': '고누리', 'description': '만화 그림 열심히 하겠습니다.\\n모든 문의: konuri2023@gmail.com\\n\\n\\n', 'keywords': '만화 애니메이션 애니 손그림 그림 animation 공감 공감툰 \"일상 애니메이션\" konuri meme Cartoon アニメ', 'unsubscribedTrailer': 'i_RFLW8C374', 'country': 'KR'}, 'image': {'bannerExternalUrl': 'https://yt3.googleusercontent.com/S8eHXc4TnSA5D1vR2PNCdNXpUm6GeAFpfYX-82b_Qa9T1gNzacWVS9Xc76C5RzDpP1zCDshJ3A'}}}]}\n",
      "{'kind': 'youtube#channelListResponse', 'etag': 'ItJLJztTBNkd-6MJ2SeRX2CKSWY', 'pageInfo': {'totalResults': 1, 'resultsPerPage': 5}, 'items': [{'kind': 'youtube#channel', 'etag': 'PKG5jusCAmeJhfPPtE8HpKht3x8', 'id': 'UC8TxOmxwC8QpHRZra7sOFig', 'snippet': {'title': '가요이 키우기 YoiKi', 'description': '그냥 가영이가 귀여워서 만든 채널\\n', 'customUrl': '@yoiki', 'publishedAt': '2019-04-21T08:47:27Z', 'thumbnails': {'default': {'url': 'https://yt3.ggpht.com/PyMpGNCwvxsYreOBWv3Z5jYRflDneBFTkeVbo6UMkSuzdRUlnpBLidAZScWq23wMm-RKhVcXgQ=s88-c-k-c0x00ffffff-no-rj', 'width': 88, 'height': 88}, 'medium': {'url': 'https://yt3.ggpht.com/PyMpGNCwvxsYreOBWv3Z5jYRflDneBFTkeVbo6UMkSuzdRUlnpBLidAZScWq23wMm-RKhVcXgQ=s240-c-k-c0x00ffffff-no-rj', 'width': 240, 'height': 240}, 'high': {'url': 'https://yt3.ggpht.com/PyMpGNCwvxsYreOBWv3Z5jYRflDneBFTkeVbo6UMkSuzdRUlnpBLidAZScWq23wMm-RKhVcXgQ=s800-c-k-c0x00ffffff-no-rj', 'width': 800, 'height': 800}}, 'localized': {'title': '가요이 키우기 YoiKi', 'description': '그냥 가영이가 귀여워서 만든 채널\\n'}, 'country': 'KR'}, 'contentDetails': {'relatedPlaylists': {'likes': '', 'uploads': 'UU8TxOmxwC8QpHRZra7sOFig'}}, 'statistics': {'viewCount': '425465686', 'subscriberCount': '736000', 'hiddenSubscriberCount': False, 'videoCount': '247'}, 'topicDetails': {'topicIds': ['/m/019_rr'], 'topicCategories': ['https://en.wikipedia.org/wiki/Lifestyle_(sociology)']}, 'status': {'privacyStatus': 'public', 'isLinked': True, 'longUploadsStatus': 'longUploadsUnspecified', 'madeForKids': False}, 'brandingSettings': {'channel': {'title': '가요이 키우기 YoiKi', 'description': '그냥 가영이가 귀여워서 만든 채널\\n', 'keywords': '커플 브이로그 일상 여행 데이트 여행브이로그 커플브이로그', 'unsubscribedTrailer': '4CXtw3zLyd0', 'country': 'KR'}, 'image': {'bannerExternalUrl': 'https://yt3.googleusercontent.com/bBvXLyP5miLQnzUaYxuhsnQShM3jIz3eWbGZZiy4RA4JYuPXjlt6gJlJVBuZF66D16c6NUmZIA'}}}]}\n",
      "{'kind': 'youtube#channelListResponse', 'etag': '-Cs-cB6rIUUMa7DWRUyBkkpY8yc', 'pageInfo': {'totalResults': 1, 'resultsPerPage': 5}, 'items': [{'kind': 'youtube#channel', 'etag': 'SVI7hVN91LmpPGAmIbQd35VqWEw', 'id': 'UCXEKwWflysXu312NmIP_dlw', 'snippet': {'title': '너덜트', 'description': '문의는 메일로 부탁드립니다 :)\\nnerdult1@gmail.com\\n', 'customUrl': '@nerdult', 'publishedAt': '2021-06-21T08:55:19.939046Z', 'thumbnails': {'default': {'url': 'https://yt3.ggpht.com/q-uQmCdiiOFQsHU83mfWqS3rpdRJXRW9zb_vpyr2MtInkqsVtQwc3ej3rouyVORHL6Dvx7--Iw=s88-c-k-c0x00ffffff-no-rj', 'width': 88, 'height': 88}, 'medium': {'url': 'https://yt3.ggpht.com/q-uQmCdiiOFQsHU83mfWqS3rpdRJXRW9zb_vpyr2MtInkqsVtQwc3ej3rouyVORHL6Dvx7--Iw=s240-c-k-c0x00ffffff-no-rj', 'width': 240, 'height': 240}, 'high': {'url': 'https://yt3.ggpht.com/q-uQmCdiiOFQsHU83mfWqS3rpdRJXRW9zb_vpyr2MtInkqsVtQwc3ej3rouyVORHL6Dvx7--Iw=s800-c-k-c0x00ffffff-no-rj', 'width': 800, 'height': 800}}, 'defaultLanguage': 'ko', 'localized': {'title': '너덜트', 'description': '문의는 메일로 부탁드립니다 :)\\nnerdult1@gmail.com\\n'}, 'country': 'KR'}, 'contentDetails': {'relatedPlaylists': {'likes': '', 'uploads': 'UUXEKwWflysXu312NmIP_dlw'}}, 'statistics': {'viewCount': '422241281', 'subscriberCount': '2010000', 'hiddenSubscriberCount': False, 'videoCount': '104'}, 'topicDetails': {'topicIds': ['/m/02vxn', '/m/02jjt', '/m/09kqc'], 'topicCategories': ['https://en.wikipedia.org/wiki/Film', 'https://en.wikipedia.org/wiki/Entertainment', 'https://en.wikipedia.org/wiki/Humour']}, 'status': {'privacyStatus': 'public', 'isLinked': True, 'longUploadsStatus': 'longUploadsUnspecified', 'madeForKids': False}, 'brandingSettings': {'channel': {'title': '너덜트', 'description': '문의는 메일로 부탁드립니다 :)\\nnerdult1@gmail.com\\n', 'unsubscribedTrailer': 'jxdQh7vs4Ls', 'defaultLanguage': 'ko', 'country': 'KR'}, 'image': {'bannerExternalUrl': 'https://yt3.googleusercontent.com/tNzwspjsGerAkPyu22LxgAZBK0X04od7wosAdsDqeFsHZPxApCCNGKbkIgHzXM0y6O4bCv_Yng'}}}]}\n",
      "{'kind': 'youtube#channelListResponse', 'etag': 'fpqsuRf2NzUgSiKROTIrFxInsLc', 'pageInfo': {'totalResults': 1, 'resultsPerPage': 5}, 'items': [{'kind': 'youtube#channel', 'etag': 'dCBbVDw_A4eNhJ9uXEgsO-cOyRc', 'id': 'UC_VSHnyAnKnljt3iMYd8H3w', 'snippet': {'title': '동하하', 'description': '놀림전문가\\n\\n섭외 문의 \\n이메일 - dongha@metacomedy.net \\n인스타 - donghahahaha DM', 'customUrl': '@donghahahaha', 'publishedAt': '2012-08-18T09:35:10Z', 'thumbnails': {'default': {'url': 'https://yt3.ggpht.com/XiAkIp5pc-l0I6tzZpbQeZr2l0_BBbrnjdjY_TNPqITk6R9WtSiWInmPYlX_jIzvXCojiQRucQ=s88-c-k-c0x00ffffff-no-rj', 'width': 88, 'height': 88}, 'medium': {'url': 'https://yt3.ggpht.com/XiAkIp5pc-l0I6tzZpbQeZr2l0_BBbrnjdjY_TNPqITk6R9WtSiWInmPYlX_jIzvXCojiQRucQ=s240-c-k-c0x00ffffff-no-rj', 'width': 240, 'height': 240}, 'high': {'url': 'https://yt3.ggpht.com/XiAkIp5pc-l0I6tzZpbQeZr2l0_BBbrnjdjY_TNPqITk6R9WtSiWInmPYlX_jIzvXCojiQRucQ=s800-c-k-c0x00ffffff-no-rj', 'width': 800, 'height': 800}}, 'localized': {'title': '동하하', 'description': '놀림전문가\\n\\n섭외 문의 \\n이메일 - dongha@metacomedy.net \\n인스타 - donghahahaha DM'}, 'country': 'KR'}, 'contentDetails': {'relatedPlaylists': {'likes': '', 'uploads': 'UU_VSHnyAnKnljt3iMYd8H3w'}}, 'statistics': {'viewCount': '215416911', 'subscriberCount': '337000', 'hiddenSubscriberCount': False, 'videoCount': '512'}, 'topicDetails': {'topicIds': ['/m/09kqc', '/m/02jjt', '/m/02vxn'], 'topicCategories': ['https://en.wikipedia.org/wiki/Humour', 'https://en.wikipedia.org/wiki/Entertainment', 'https://en.wikipedia.org/wiki/Film']}, 'status': {'privacyStatus': 'public', 'isLinked': True, 'longUploadsStatus': 'longUploadsUnspecified', 'madeForKids': False}, 'brandingSettings': {'channel': {'title': '동하하', 'description': '놀림전문가\\n\\n섭외 문의 \\n이메일 - dongha@metacomedy.net \\n인스타 - donghahahaha DM', 'keywords': '코미디언 스탠드업코미디 유머 웃음 standupcomedy 코미디 동하하 김동하 MC 코미꼬 서울코미디클럽 애드립 대니초 송하빈 이제규 원라이너 호스트 입담 애드립 크라우드워크 김동하 동하하', 'unsubscribedTrailer': 'ETNC0qtCglY', 'country': 'KR'}, 'image': {'bannerExternalUrl': 'https://yt3.googleusercontent.com/UF9KHeVdH6vPd_Yk-bY9z_I1rqSxKyqkAq1j5wS1GKIW9h40E4eHdUaNST-XG5gsk_221z8Y4g'}}}]}\n",
      "{'kind': 'youtube#channelListResponse', 'etag': 'nI2Zru4c6fn4RbOGuUXFv8G-T1Y', 'pageInfo': {'totalResults': 1, 'resultsPerPage': 5}, 'items': [{'kind': 'youtube#channel', 'etag': '_oLsj_R7GbpWMjIgHMucQOaAIfs', 'id': 'UClRNDVO8093rmRTtLe4GEPw', 'snippet': {'title': '곽튜브', 'description': '세계여행 및 음식탐방을 목표로 하는 채널입니다.\\n문의 \\ninsta : @jbkwak\\nmail : wnsqls3@gmail.com', 'customUrl': '@jbkwak', 'publishedAt': '2018-10-16T17:14:53Z', 'thumbnails': {'default': {'url': 'https://yt3.ggpht.com/whpRwLKLoWAQCwYCbr9Hq4xXF67ktW18y86VDdiMK4xS2xy_rVRMwIO3pf93QI-eZ_sAs7j-jQ=s88-c-k-c0x00ffffff-no-rj', 'width': 88, 'height': 88}, 'medium': {'url': 'https://yt3.ggpht.com/whpRwLKLoWAQCwYCbr9Hq4xXF67ktW18y86VDdiMK4xS2xy_rVRMwIO3pf93QI-eZ_sAs7j-jQ=s240-c-k-c0x00ffffff-no-rj', 'width': 240, 'height': 240}, 'high': {'url': 'https://yt3.ggpht.com/whpRwLKLoWAQCwYCbr9Hq4xXF67ktW18y86VDdiMK4xS2xy_rVRMwIO3pf93QI-eZ_sAs7j-jQ=s800-c-k-c0x00ffffff-no-rj', 'width': 800, 'height': 800}}, 'localized': {'title': '곽튜브', 'description': '세계여행 및 음식탐방을 목표로 하는 채널입니다.\\n문의 \\ninsta : @jbkwak\\nmail : wnsqls3@gmail.com'}, 'country': 'KR'}, 'contentDetails': {'relatedPlaylists': {'likes': '', 'uploads': 'UUlRNDVO8093rmRTtLe4GEPw'}}, 'statistics': {'viewCount': '551916049', 'subscriberCount': '2060000', 'hiddenSubscriberCount': False, 'videoCount': '369'}, 'topicDetails': {'topicIds': ['/m/02wbm', '/m/019_rr', '/g/120yrv6h'], 'topicCategories': ['https://en.wikipedia.org/wiki/Food', 'https://en.wikipedia.org/wiki/Lifestyle_(sociology)', 'https://en.wikipedia.org/wiki/Tourism']}, 'status': {'privacyStatus': 'public', 'isLinked': True, 'longUploadsStatus': 'longUploadsUnspecified', 'madeForKids': False}, 'brandingSettings': {'channel': {'title': '곽튜브', 'description': '세계여행 및 음식탐방을 목표로 하는 채널입니다.\\n문의 \\ninsta : @jbkwak\\nmail : wnsqls3@gmail.com', 'country': 'KR'}, 'image': {'bannerExternalUrl': 'https://yt3.googleusercontent.com/QCHOikUAYi9sczu5OtwbxexLDFgdFajojY-tCtXdQgPxAVOGAduz8AhsskUf8bdOlkdhqWTCkA'}}}]}\n",
      "{'kind': 'youtube#channelListResponse', 'etag': 'Y57XHCDLJYBvoEa2X60hFUs7nU8', 'pageInfo': {'totalResults': 1, 'resultsPerPage': 5}, 'items': [{'kind': 'youtube#channel', 'etag': '3_F5CGLGwyyflUXSph1dw_JTPNs', 'id': 'UC1Rz7a_DWtsE9cQwSyElE0Q', 'snippet': {'title': '인생84', 'description': '남극의 황제 펭귄이  \\n먹이를 소화시켜 자식에게\\n펭귄 밀크를 토 해내듯,\\n저 또한\\n흘러간 인생을 소화시켜,\\n영양가 있는 인생 밀크를\\n만들어보려 합니다.\\n맛잇고 영양가 있는\\n밀크를 만들도록 노력 해보겠습니다.\\n\\n이곳 인생84에서 .\\n\\n비지니스  문의 Email - backho2301@gmail.com', 'customUrl': '@geean84', 'publishedAt': '2020-07-15T08:12:12.152457Z', 'thumbnails': {'default': {'url': 'https://yt3.ggpht.com/7FpdURFc6IBdzsajdWRFY6T6NQE7VY368erLJ0L1yasoZF_8wu15ejo86cGicy1OkXP98y5v5g=s88-c-k-c0x00ffffff-no-rj', 'width': 88, 'height': 88}, 'medium': {'url': 'https://yt3.ggpht.com/7FpdURFc6IBdzsajdWRFY6T6NQE7VY368erLJ0L1yasoZF_8wu15ejo86cGicy1OkXP98y5v5g=s240-c-k-c0x00ffffff-no-rj', 'width': 240, 'height': 240}, 'high': {'url': 'https://yt3.ggpht.com/7FpdURFc6IBdzsajdWRFY6T6NQE7VY368erLJ0L1yasoZF_8wu15ejo86cGicy1OkXP98y5v5g=s800-c-k-c0x00ffffff-no-rj', 'width': 800, 'height': 800}}, 'localized': {'title': '인생84', 'description': '남극의 황제 펭귄이  \\n먹이를 소화시켜 자식에게\\n펭귄 밀크를 토 해내듯,\\n저 또한\\n흘러간 인생을 소화시켜,\\n영양가 있는 인생 밀크를\\n만들어보려 합니다.\\n맛잇고 영양가 있는\\n밀크를 만들도록 노력 해보겠습니다.\\n\\n이곳 인생84에서 .\\n\\n비지니스  문의 Email - backho2301@gmail.com'}, 'country': 'KR'}, 'contentDetails': {'relatedPlaylists': {'likes': '', 'uploads': 'UU1Rz7a_DWtsE9cQwSyElE0Q'}}, 'statistics': {'viewCount': '186783430', 'subscriberCount': '1180000', 'hiddenSubscriberCount': False, 'videoCount': '245'}, 'topicDetails': {'topicIds': ['/m/019_rr'], 'topicCategories': ['https://en.wikipedia.org/wiki/Lifestyle_(sociology)']}, 'status': {'privacyStatus': 'public', 'isLinked': True, 'longUploadsStatus': 'longUploadsUnspecified', 'madeForKids': False}, 'brandingSettings': {'channel': {'title': '인생84', 'description': '남극의 황제 펭귄이  \\n먹이를 소화시켜 자식에게\\n펭귄 밀크를 토 해내듯,\\n저 또한\\n흘러간 인생을 소화시켜,\\n영양가 있는 인생 밀크를\\n만들어보려 합니다.\\n맛잇고 영양가 있는\\n밀크를 만들도록 노력 해보겠습니다.\\n\\n이곳 인생84에서 .\\n\\n비지니스  문의 Email - backho2301@gmail.com', 'unsubscribedTrailer': 'lTZJ0og5TJM', 'country': 'KR'}, 'image': {'bannerExternalUrl': 'https://yt3.googleusercontent.com/uc4xMdcAz2Gf5AFLPRuAqWYlgvU7Lx6194M3ZZrMJHU_tHqfMDasBQekUW49fydCcG6qJROCdw'}}}]}\n",
      "{'kind': 'youtube#channelListResponse', 'etag': '4pSzDg2eI3yPbYZ3aiiHsFx3sIo', 'pageInfo': {'totalResults': 1, 'resultsPerPage': 5}, 'items': [{'kind': 'youtube#channel', 'etag': 'bS5DU-Vq_YXMmGLukKK7ubuRp-I', 'id': 'UCA6Z6cF3orXMmdeCPUH1-NA', 'snippet': {'title': '카더정원', 'description': '카더가든이다ㅋ\\n\\n비즈니스 문의 : carthejungwon@gmail.com\\n', 'customUrl': '@carthejungwon', 'publishedAt': '2024-01-03T08:59:09.613561Z', 'thumbnails': {'default': {'url': 'https://yt3.ggpht.com/7wgZsN7aqP--_a2sVU9OZYmXZVpAhcsCr8OO8KAeI5Tcv9xUYLGy5H0ObpUgW0hS21cF_sGEjA=s88-c-k-c0x00ffffff-no-rj', 'width': 88, 'height': 88}, 'medium': {'url': 'https://yt3.ggpht.com/7wgZsN7aqP--_a2sVU9OZYmXZVpAhcsCr8OO8KAeI5Tcv9xUYLGy5H0ObpUgW0hS21cF_sGEjA=s240-c-k-c0x00ffffff-no-rj', 'width': 240, 'height': 240}, 'high': {'url': 'https://yt3.ggpht.com/7wgZsN7aqP--_a2sVU9OZYmXZVpAhcsCr8OO8KAeI5Tcv9xUYLGy5H0ObpUgW0hS21cF_sGEjA=s800-c-k-c0x00ffffff-no-rj', 'width': 800, 'height': 800}}, 'localized': {'title': '카더정원', 'description': '카더가든이다ㅋ\\n\\n비즈니스 문의 : carthejungwon@gmail.com\\n'}, 'country': 'KR'}, 'contentDetails': {'relatedPlaylists': {'likes': '', 'uploads': 'UUA6Z6cF3orXMmdeCPUH1-NA'}}, 'statistics': {'viewCount': '253973969', 'subscriberCount': '662000', 'hiddenSubscriberCount': False, 'videoCount': '309'}, 'topicDetails': {'topicIds': ['/m/02jjt', '/m/02vxn'], 'topicCategories': ['https://en.wikipedia.org/wiki/Entertainment', 'https://en.wikipedia.org/wiki/Film']}, 'status': {'privacyStatus': 'public', 'isLinked': True, 'longUploadsStatus': 'longUploadsUnspecified', 'madeForKids': False}, 'brandingSettings': {'channel': {'title': '카더정원', 'description': '카더가든이다ㅋ\\n\\n비즈니스 문의 : carthejungwon@gmail.com\\n', 'keywords': '카더가든 carthegarden 카더정원 carthejungwon', 'country': 'KR'}, 'image': {'bannerExternalUrl': 'https://yt3.googleusercontent.com/a-jzOOyCdJSspyASP64U668VLRC2dSJpGOs4w2VFlpo4OzNshnFcrNm2e9A9NnhKLKEVtC73Yw'}}}]}\n"
     ]
    }
   ],
   "source": [
    "result = []\n",
    "for name, channel in zip(channel_name, channel_lst):\n",
    "    with open('./'+ channel + '/' + 'chanel_info.json', 'r', encoding='utf-8') as file:\n",
    "        data = json.load(file)\n",
    "    print(data)\n",
    "    items = data['items']\n",
    "    uId = items[0]['id']\n",
    "    title = items[0]['snippet']['title']\n",
    "    description = items[0]['snippet']['description']\n",
    "    publishedAt = items[0]['snippet']['publishedAt']\n",
    "    thumbnails = items[0]['snippet']['thumbnails']['default']['url']\n",
    "    viewCount = items[0]['statistics']['viewCount']\n",
    "    subscriberCount = items[0]['statistics']['subscriberCount']\n",
    "    videoCount = items[0]['statistics']['videoCount']\n",
    "    topicCategories = items[0]['topicDetails']['topicCategories']\n",
    "    dataTime = formatted_time\n",
    "    result.append([name, channel, uId, title, description, publishedAt, thumbnails, viewCount, subscriberCount, videoCount, topicCategories, dataTime])"
   ]
  },
  {
   "cell_type": "code",
   "execution_count": 26,
   "metadata": {},
   "outputs": [],
   "source": [
    "df_c = pd.DataFrame(result)"
   ]
  },
  {
   "cell_type": "code",
   "execution_count": 29,
   "metadata": {},
   "outputs": [],
   "source": [
    "df_c = df_c.reset_index()\n",
    "df_c.columns = columns_name"
   ]
  },
  {
   "cell_type": "code",
   "execution_count": 31,
   "metadata": {},
   "outputs": [],
   "source": [
    "df_c.to_csv('channel_v1.csv', index=False)"
   ]
  },
  {
   "cell_type": "code",
   "execution_count": 41,
   "metadata": {},
   "outputs": [
    {
     "data": {
      "text/plain": [
       "10"
      ]
     },
     "execution_count": 41,
     "metadata": {},
     "output_type": "execute_result"
    }
   ],
   "source": [
    "table_name = \"Channel\"  # 저장할 테이블 이름\n",
    "df_c.to_sql(table_name, engine, if_exists=\"replace\", index=False)"
   ]
  },
  {
   "cell_type": "markdown",
   "metadata": {},
   "source": [
    "### Video"
   ]
  },
  {
   "cell_type": "code",
   "execution_count": 72,
   "metadata": {},
   "outputs": [],
   "source": [
    "columns_name = ['channel_id', 'vId','videoTitle', 'videoDescription', 'videoPublishedAt', 'videoThumbnails', 'tags', 'categoryId', 'liveBroadcastContent', 'videoViewCount', 'videoLikeCount', 'videoDislikeCount', 'commentCount', 'topicDetails', 'hasPaidProductPlacement']"
   ]
  },
  {
   "cell_type": "code",
   "execution_count": 73,
   "metadata": {},
   "outputs": [],
   "source": [
    "result = []\n",
    "for channel_id, channel in zip(range(len(channel_lst)), channel_lst):\n",
    "    files = os.listdir(channel)\n",
    "    files = [x for x in files if x.find('video_') != -1]\n",
    "    for f in files:\n",
    "        with open('./'+ channel + '/' + f, 'r', encoding='utf-8') as file:\n",
    "            data = json.load(file)\n",
    "        # print(data)\n",
    "        itmes = data['items']\n",
    "        vId = itmes[0]['id']\n",
    "        videoTitle = itmes[0]['snippet']['title']\n",
    "        videoDescription = itmes[0]['snippet']['description']\n",
    "        videoPublishedAt = itmes[0]['snippet']['publishedAt']\n",
    "        videoThumbnails = itmes[0]['snippet']['thumbnails']['default']['url']\n",
    "        tags = itmes[0]['snippet'].get('tags')\n",
    "        categoryId = itmes[0]['snippet']['categoryId']\n",
    "        liveBroadcastContent = itmes[0]['snippet']['liveBroadcastContent']\n",
    "        \n",
    "        videoViewCount = itmes[0]['statistics']['viewCount']\n",
    "        videoLikeCount = itmes[0]['statistics'].get('likeCount')\n",
    "        # print(videoLikeCount)\n",
    "        videoDislikeCount = itmes[0]['statistics'].get('dislikeCount')\n",
    "        commentCount = itmes[0]['statistics'].get('commentCount')\n",
    "        topicDetails = itmes[0].get('topicDetails')\n",
    "        if topicDetails:\n",
    "            topicDetails = topicDetails['topicCategories']\n",
    "        \n",
    "        hasPaidProductPlacement = itmes[0]['paidProductPlacementDetails']['hasPaidProductPlacement']\n",
    "            \n",
    "        result.append([channel_id, vId, videoTitle, videoDescription, videoPublishedAt, videoThumbnails, tags,\n",
    "                       categoryId, liveBroadcastContent, videoViewCount, videoLikeCount, \n",
    "                       videoDislikeCount, commentCount, topicDetails, hasPaidProductPlacement])\n",
    "    "
   ]
  },
  {
   "cell_type": "code",
   "execution_count": 74,
   "metadata": {},
   "outputs": [],
   "source": [
    "df_v = pd.DataFrame(result, columns=columns_name)"
   ]
  },
  {
   "cell_type": "code",
   "execution_count": 75,
   "metadata": {},
   "outputs": [],
   "source": [
    "df_v = df_v.sort_values(['channel_id', 'videoPublishedAt'])"
   ]
  },
  {
   "cell_type": "code",
   "execution_count": 76,
   "metadata": {},
   "outputs": [
    {
     "data": {
      "text/plain": [
       "2191"
      ]
     },
     "execution_count": 76,
     "metadata": {},
     "output_type": "execute_result"
    }
   ],
   "source": [
    "len(df_v)"
   ]
  },
  {
   "cell_type": "code",
   "execution_count": 78,
   "metadata": {},
   "outputs": [
    {
     "data": {
      "text/plain": [
       "hasPaidProductPlacement\n",
       "False    1826\n",
       "True      365\n",
       "Name: count, dtype: int64"
      ]
     },
     "execution_count": 78,
     "metadata": {},
     "output_type": "execute_result"
    }
   ],
   "source": [
    "df_v.value_counts('hasPaidProductPlacement')"
   ]
  },
  {
   "cell_type": "code",
   "execution_count": 77,
   "metadata": {},
   "outputs": [
    {
     "data": {
      "text/html": [
       "<div>\n",
       "<style scoped>\n",
       "    .dataframe tbody tr th:only-of-type {\n",
       "        vertical-align: middle;\n",
       "    }\n",
       "\n",
       "    .dataframe tbody tr th {\n",
       "        vertical-align: top;\n",
       "    }\n",
       "\n",
       "    .dataframe thead th {\n",
       "        text-align: right;\n",
       "    }\n",
       "</style>\n",
       "<table border=\"1\" class=\"dataframe\">\n",
       "  <thead>\n",
       "    <tr style=\"text-align: right;\">\n",
       "      <th></th>\n",
       "      <th>channel_id</th>\n",
       "      <th>vId</th>\n",
       "      <th>videoTitle</th>\n",
       "      <th>videoDescription</th>\n",
       "      <th>videoPublishedAt</th>\n",
       "      <th>videoThumbnails</th>\n",
       "      <th>tags</th>\n",
       "      <th>categoryId</th>\n",
       "      <th>liveBroadcastContent</th>\n",
       "      <th>videoViewCount</th>\n",
       "      <th>videoLikeCount</th>\n",
       "      <th>videoDislikeCount</th>\n",
       "      <th>commentCount</th>\n",
       "      <th>topicDetails</th>\n",
       "      <th>hasPaidProductPlacement</th>\n",
       "    </tr>\n",
       "  </thead>\n",
       "  <tbody>\n",
       "    <tr>\n",
       "      <th>278</th>\n",
       "      <td>0</td>\n",
       "      <td>__fPyM34Cik</td>\n",
       "      <td>2024 패션왕 선발대회 결승전｜김해준 vs 이선민</td>\n",
       "      <td>#피식대학 #긁 \\n\\n김해준 : https://www.instagram.com/h...</td>\n",
       "      <td>2024-08-04T10:03:00Z</td>\n",
       "      <td>https://i.ytimg.com/vi/__fPyM34Cik/default.jpg</td>\n",
       "      <td>None</td>\n",
       "      <td>23</td>\n",
       "      <td>none</td>\n",
       "      <td>847447</td>\n",
       "      <td>10814</td>\n",
       "      <td>None</td>\n",
       "      <td>833</td>\n",
       "      <td>[https://en.wikipedia.org/wiki/Lifestyle_(soci...</td>\n",
       "      <td>False</td>\n",
       "    </tr>\n",
       "  </tbody>\n",
       "</table>\n",
       "</div>"
      ],
      "text/plain": [
       "     channel_id          vId                    videoTitle  \\\n",
       "278           0  __fPyM34Cik  2024 패션왕 선발대회 결승전｜김해준 vs 이선민   \n",
       "\n",
       "                                      videoDescription      videoPublishedAt  \\\n",
       "278  #피식대학 #긁 \\n\\n김해준 : https://www.instagram.com/h...  2024-08-04T10:03:00Z   \n",
       "\n",
       "                                    videoThumbnails  tags categoryId  \\\n",
       "278  https://i.ytimg.com/vi/__fPyM34Cik/default.jpg  None         23   \n",
       "\n",
       "    liveBroadcastContent videoViewCount videoLikeCount videoDislikeCount  \\\n",
       "278                 none         847447          10814              None   \n",
       "\n",
       "    commentCount                                       topicDetails  \\\n",
       "278          833  [https://en.wikipedia.org/wiki/Lifestyle_(soci...   \n",
       "\n",
       "     hasPaidProductPlacement  \n",
       "278                    False  "
      ]
     },
     "execution_count": 77,
     "metadata": {},
     "output_type": "execute_result"
    }
   ],
   "source": [
    "df_v[df_v['vId'] == '__fPyM34Cik']"
   ]
  },
  {
   "cell_type": "code",
   "execution_count": 79,
   "metadata": {},
   "outputs": [
    {
     "data": {
      "text/plain": [
       "191"
      ]
     },
     "execution_count": 79,
     "metadata": {},
     "output_type": "execute_result"
    }
   ],
   "source": [
    "df_v.to_sql('Video', engine, if_exists=\"replace\", index=False)"
   ]
  },
  {
   "cell_type": "markdown",
   "metadata": {},
   "source": [
    "### Comments"
   ]
  },
  {
   "cell_type": "code",
   "execution_count": 8,
   "metadata": {},
   "outputs": [
    {
     "data": {
      "text/plain": [
       "['피식대학', '싱긍벙글', '승우아빠', '고누리', '가요이', '너덜트', '동하하', '곽튜브', '기안84', '카더정원']"
      ]
     },
     "execution_count": 8,
     "metadata": {},
     "output_type": "execute_result"
    }
   ],
   "source": [
    "channel_name"
   ]
  },
  {
   "cell_type": "code",
   "execution_count": 15,
   "metadata": {},
   "outputs": [],
   "source": [
    "columns_name = ['channelName','vId', 'cId', 'textDisplay', 'authorDisplayName', 'likeCount', 'commentPublishedAt', 'commentUpdatedAt', 'replyCount', 'replies']"
   ]
  },
  {
   "cell_type": "code",
   "execution_count": 13,
   "metadata": {},
   "outputs": [],
   "source": [
    "result = []\n",
    "for channel_id, name, channel in zip(range(len(channel_lst)), channel_name, channel_lst):\n",
    "    files = os.listdir(channel)\n",
    "    files = [x for x in files if x.find('comment_') != -1]\n",
    "    for f in files:\n",
    "        try:\n",
    "            with open('./'+ channel + '/' + f, 'r', encoding='utf-8') as file:\n",
    "                data = json.load(file)\n",
    "        except:\n",
    "            continue\n",
    "        itmes = data['items']\n",
    "        \n",
    "        for item in itmes:\n",
    "            vId = item['snippet']['videoId']\n",
    "            cId = item['id']\n",
    "            \n",
    "            textDisplay = item['snippet']['topLevelComment']['snippet']['textDisplay']\n",
    "            authorDisplayName = item['snippet']['topLevelComment']['snippet']['authorDisplayName']\n",
    "            likeCount = item['snippet']['topLevelComment']['snippet']['likeCount']\n",
    "            commentPublishedAt = item['snippet']['topLevelComment']['snippet']['publishedAt']\n",
    "            commentUpdatedAt = item['snippet']['topLevelComment']['snippet']['updatedAt']\n",
    "            replyCount = item['snippet']['totalReplyCount']\n",
    "            \n",
    "            replies_lst = item.get('replies')\n",
    "            if replies_lst:\n",
    "                replies = [[x['snippet']['textDisplay'], x['snippet']['authorDisplayName']] for x in replies_lst['comments']]\n",
    "            else:\n",
    "                replies = None\n",
    "                \n",
    "            result.append([name, vId, cId, textDisplay, authorDisplayName, likeCount, commentPublishedAt, commentUpdatedAt, replyCount, str(replies)])"
   ]
  },
  {
   "cell_type": "code",
   "execution_count": 14,
   "metadata": {},
   "outputs": [
    {
     "data": {
      "text/plain": [
       "580109"
      ]
     },
     "execution_count": 14,
     "metadata": {},
     "output_type": "execute_result"
    }
   ],
   "source": [
    "len(result)"
   ]
  },
  {
   "cell_type": "code",
   "execution_count": 16,
   "metadata": {},
   "outputs": [],
   "source": [
    "df_co = pd.DataFrame(result, columns=columns_name)"
   ]
  },
  {
   "cell_type": "code",
   "execution_count": 17,
   "metadata": {},
   "outputs": [],
   "source": [
    "df_co = df_co.sort_values(['vId', 'likeCount'], ascending=False)"
   ]
  },
  {
   "cell_type": "code",
   "execution_count": 18,
   "metadata": {},
   "outputs": [
    {
     "data": {
      "text/plain": [
       "580109"
      ]
     },
     "execution_count": 18,
     "metadata": {},
     "output_type": "execute_result"
    }
   ],
   "source": [
    "len(df_co)"
   ]
  },
  {
   "cell_type": "code",
   "execution_count": 19,
   "metadata": {},
   "outputs": [
    {
     "data": {
      "text/html": [
       "<div>\n",
       "<style scoped>\n",
       "    .dataframe tbody tr th:only-of-type {\n",
       "        vertical-align: middle;\n",
       "    }\n",
       "\n",
       "    .dataframe tbody tr th {\n",
       "        vertical-align: top;\n",
       "    }\n",
       "\n",
       "    .dataframe thead th {\n",
       "        text-align: right;\n",
       "    }\n",
       "</style>\n",
       "<table border=\"1\" class=\"dataframe\">\n",
       "  <thead>\n",
       "    <tr style=\"text-align: right;\">\n",
       "      <th></th>\n",
       "      <th>channelName</th>\n",
       "      <th>vId</th>\n",
       "      <th>cId</th>\n",
       "      <th>textDisplay</th>\n",
       "      <th>authorDisplayName</th>\n",
       "      <th>likeCount</th>\n",
       "      <th>commentPublishedAt</th>\n",
       "      <th>commentUpdatedAt</th>\n",
       "      <th>replyCount</th>\n",
       "      <th>replies</th>\n",
       "    </tr>\n",
       "  </thead>\n",
       "  <tbody>\n",
       "    <tr>\n",
       "      <th>365962</th>\n",
       "      <td>가요이</td>\n",
       "      <td>zygTBxFDt38</td>\n",
       "      <td>UgyHwdQ9q3aThng3X7l4AaABAg</td>\n",
       "      <td>형들아 담배나 피러 가자</td>\n",
       "      <td>@이한얼-h2o</td>\n",
       "      <td>440</td>\n",
       "      <td>2020-12-05T09:42:26Z</td>\n",
       "      <td>2020-12-05T09:42:26Z</td>\n",
       "      <td>16</td>\n",
       "      <td>[['에세 새로 나온거나 펴야지 ㄸㅂ..', '@김-f1w'], ['가자..', '...</td>\n",
       "    </tr>\n",
       "    <tr>\n",
       "      <th>365958</th>\n",
       "      <td>가요이</td>\n",
       "      <td>zygTBxFDt38</td>\n",
       "      <td>UgxdEo0FKUHKhm_nVIN4AaABAg</td>\n",
       "      <td>가요이님은 진짜 매력으로 따지면 다시나올수없는 늪이고 진심 인간비타민이심ㅋㅋㅋ</td>\n",
       "      <td>@eastsea122</td>\n",
       "      <td>401</td>\n",
       "      <td>2020-12-04T10:59:59Z</td>\n",
       "      <td>2020-12-04T10:59:59Z</td>\n",
       "      <td>1</td>\n",
       "      <td>[['일본이 질투하고 미국이 놀라는 그녀의 상큼함 ㅠㅠㅠㅠㅠ', '@김범-f3l']]</td>\n",
       "    </tr>\n",
       "    <tr>\n",
       "      <th>365963</th>\n",
       "      <td>가요이</td>\n",
       "      <td>zygTBxFDt38</td>\n",
       "      <td>UgzOwCMbGoivURo97214AaABAg</td>\n",
       "      <td>진짜 대한민국 여자친구 중에 레전드&lt;br&gt;국민 여동생 문근영? &lt;br&gt;그딴거 필요없...</td>\n",
       "      <td>@삼성연합</td>\n",
       "      <td>379</td>\n",
       "      <td>2020-12-04T15:17:36Z</td>\n",
       "      <td>2020-12-04T15:18:03Z</td>\n",
       "      <td>7</td>\n",
       "      <td>[['굳이 누가 필요없다 이딴말을 해야하누 ㅋㅋ', '@반박시니말이맞음-u6c'],...</td>\n",
       "    </tr>\n",
       "  </tbody>\n",
       "</table>\n",
       "</div>"
      ],
      "text/plain": [
       "       channelName          vId                         cId  \\\n",
       "365962         가요이  zygTBxFDt38  UgyHwdQ9q3aThng3X7l4AaABAg   \n",
       "365958         가요이  zygTBxFDt38  UgxdEo0FKUHKhm_nVIN4AaABAg   \n",
       "365963         가요이  zygTBxFDt38  UgzOwCMbGoivURo97214AaABAg   \n",
       "\n",
       "                                              textDisplay authorDisplayName  \\\n",
       "365962                                      형들아 담배나 피러 가자          @이한얼-h2o   \n",
       "365958        가요이님은 진짜 매력으로 따지면 다시나올수없는 늪이고 진심 인간비타민이심ㅋㅋㅋ       @eastsea122   \n",
       "365963  진짜 대한민국 여자친구 중에 레전드<br>국민 여동생 문근영? <br>그딴거 필요없...             @삼성연합   \n",
       "\n",
       "        likeCount    commentPublishedAt      commentUpdatedAt  replyCount  \\\n",
       "365962        440  2020-12-05T09:42:26Z  2020-12-05T09:42:26Z          16   \n",
       "365958        401  2020-12-04T10:59:59Z  2020-12-04T10:59:59Z           1   \n",
       "365963        379  2020-12-04T15:17:36Z  2020-12-04T15:18:03Z           7   \n",
       "\n",
       "                                                  replies  \n",
       "365962  [['에세 새로 나온거나 펴야지 ㄸㅂ..', '@김-f1w'], ['가자..', '...  \n",
       "365958    [['일본이 질투하고 미국이 놀라는 그녀의 상큼함 ㅠㅠㅠㅠㅠ', '@김범-f3l']]  \n",
       "365963  [['굳이 누가 필요없다 이딴말을 해야하누 ㅋㅋ', '@반박시니말이맞음-u6c'],...  "
      ]
     },
     "execution_count": 19,
     "metadata": {},
     "output_type": "execute_result"
    }
   ],
   "source": [
    "df_co.head(3)"
   ]
  },
  {
   "cell_type": "code",
   "execution_count": 20,
   "metadata": {},
   "outputs": [
    {
     "data": {
      "text/plain": [
       "109"
      ]
     },
     "execution_count": 20,
     "metadata": {},
     "output_type": "execute_result"
    }
   ],
   "source": [
    "df_co.to_sql('Comments', engine, if_exists=\"replace\", index=False)"
   ]
  },
  {
   "cell_type": "code",
   "execution_count": 67,
   "metadata": {},
   "outputs": [],
   "source": [
    "query = f'SELECT * FROM public.\"Comments\"'\n",
    "comments_df = pd.read_sql(query, engine)"
   ]
  },
  {
   "cell_type": "code",
   "execution_count": 68,
   "metadata": {},
   "outputs": [
    {
     "name": "stdout",
     "output_type": "stream",
     "text": [
      "[['에세 새로 나온거나 펴야지 ㄸㅂ..', '@김-f1w'], ['가자..', '@화정동레킹볼'], ['전담핀다', '@merem5336'], ['가즈아. .   신기루같은거야', '@donrich5908'], ['두개 연짝으로 피고옴', '@키데니']]\n"
     ]
    }
   ],
   "source": [
    "for _, row in comments_df.iterrows():\n",
    "    print(eval(row['replies']))\n",
    "    break"
   ]
  },
  {
   "cell_type": "code",
   "execution_count": null,
   "metadata": {},
   "outputs": [],
   "source": []
  }
 ],
 "metadata": {
  "kernelspec": {
   "display_name": ".venv_sh",
   "language": "python",
   "name": "python3"
  },
  "language_info": {
   "codemirror_mode": {
    "name": "ipython",
    "version": 3
   },
   "file_extension": ".py",
   "mimetype": "text/x-python",
   "name": "python",
   "nbconvert_exporter": "python",
   "pygments_lexer": "ipython3",
   "version": "3.10.13"
  }
 },
 "nbformat": 4,
 "nbformat_minor": 2
}
