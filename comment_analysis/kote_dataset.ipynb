{
 "cells": [
  {
   "cell_type": "code",
   "execution_count": 2,
   "metadata": {},
   "outputs": [
    {
     "name": "stderr",
     "output_type": "stream",
     "text": [
      "/data/ephemeral/home/level4-nlp-finalproject-hackathon-nlp-03-lv3/.venv/lib/python3.10/site-packages/tqdm/auto.py:21: TqdmWarning: IProgress not found. Please update jupyter and ipywidgets. See https://ipywidgets.readthedocs.io/en/stable/user_install.html\n",
      "  from .autonotebook import tqdm as notebook_tqdm\n",
      "Downloading data: 100%|██████████| 6.74M/6.74M [00:01<00:00, 5.39MB/s]\n",
      "Downloading data: 100%|██████████| 843k/843k [00:00<00:00, 43.5MB/s]\n",
      "Downloading data: 100%|██████████| 858k/858k [00:00<00:00, 43.1MB/s]\n",
      "Generating train split: 40000 examples [00:01, 23842.40 examples/s]\n",
      "Generating test split: 5000 examples [00:00, 24957.87 examples/s]\n",
      "Generating validation split: 5000 examples [00:00, 24974.75 examples/s]"
     ]
    },
    {
     "name": "stdout",
     "output_type": "stream",
     "text": [
      "DatasetDict({\n",
      "    train: Dataset({\n",
      "        features: ['ID', 'text', 'labels'],\n",
      "        num_rows: 40000\n",
      "    })\n",
      "    test: Dataset({\n",
      "        features: ['ID', 'text', 'labels'],\n",
      "        num_rows: 5000\n",
      "    })\n",
      "    validation: Dataset({\n",
      "        features: ['ID', 'text', 'labels'],\n",
      "        num_rows: 5000\n",
      "    })\n",
      "})\n"
     ]
    },
    {
     "name": "stderr",
     "output_type": "stream",
     "text": [
      "\n"
     ]
    }
   ],
   "source": [
    "from datasets import load_dataset\n",
    "\n",
    "dataset = load_dataset(\"searle-j/kote\")\n",
    "print(dataset)"
   ]
  },
  {
   "cell_type": "code",
   "execution_count": 5,
   "metadata": {},
   "outputs": [
    {
     "name": "stderr",
     "output_type": "stream",
     "text": [
      "Creating CSV from Arrow format: 100%|██████████| 40/40 [00:01<00:00, 22.41ba/s]\n",
      "Creating CSV from Arrow format: 100%|██████████| 5/5 [00:00<00:00, 21.81ba/s]\n",
      "Creating CSV from Arrow format: 100%|██████████| 5/5 [00:00<00:00, 22.49ba/s]\n"
     ]
    }
   ],
   "source": [
    "import os\n",
    "\n",
    "# 데이터셋이 있는 폴더 생성\n",
    "os.makedirs(\"data\", exist_ok=True)\n",
    "\n",
    "# 각 데이터셋 파트를 CSV로 저장\n",
    "for split in dataset.keys():\n",
    "    dataset[split].to_csv(f\"data/{split}.csv\", index=False)"
   ]
  },
  {
   "cell_type": "markdown",
   "metadata": {},
   "source": [
    "### 43개 감정을 긍정/부정/중립으로 세 분류\n",
    "- 긍정: 환영/호의, 감동/감탄, 고마움, 존경, 기대감, 비장함, 뿌듯함, 편안/쾌적, 신기함/관심, 아껴주는, 부끄러움, 즐거움/신남, 깨달음, 흐뭇함(귀여움/예쁨), 행복, 기쁨, 안심/신뢰\n",
    "- 부정: 화남/분노, 안타까움/실망, 의심/불신, 한심함, 역겨움/징그러움, 짜증, 어이없음, 증오/혐오, 경악, 재미없음, 불평/불만\n",
    "- 중립: 슬픔, 우쭐댐/무시함, 공포/무서움, 절망, 패배/자기혐오, 귀찮음, 힘듦/지침, 죄책감, 당황/난처, 부담/안내킴, 서러움, 불쌍함/연민, 놀람, 불안/걱정, 지긋지긋"
   ]
  },
  {
   "cell_type": "code",
   "execution_count": 17,
   "metadata": {},
   "outputs": [],
   "source": [
    "import pandas as pd\n",
    "\n",
    "train = pd.read_csv('data/train.csv')\n",
    "valid = pd.read_csv('data/validation.csv')\n",
    "test = pd.read_csv('data/test.csv')\n",
    "\n",
    "data = pd.concat([train, valid, test], ignore_index=True)"
   ]
  },
  {
   "cell_type": "code",
   "execution_count": 19,
   "metadata": {},
   "outputs": [
    {
     "name": "stdout",
     "output_type": "stream",
     "text": [
      "          ID                                               text final_label\n",
      "0      39087              내가 톰행크스를 좋아하긴 했나보다... 초기 영화 빼고는 다 봤네.          긍정\n",
      "1      30893  정말 상상을 초월하는 무개념 진상들 상대하다 우울증, 공항장애 걸리는 공무원 많아요...          부정\n",
      "2      45278  새로운 세상과 조우한 자의 어린아이 같은 반응, 어쩌면 회복된 것은 눈이 아닌 순수...          긍정\n",
      "3      16398       미역은 원생생물계 산호초는 동물ㅇㅇ 아 미역이 바다의 새ㄱㅇㄱㅋㅋㅋㅋㅋㅋㅋㅋㅋㅋ          긍정\n",
      "4      13653                        네 맞습니다 플스는 역시 30프레임이 어울리죠 ㅎ          긍정\n",
      "...      ...                                                ...         ...\n",
      "49995   6161  일단 내용만 보고놓자면 크게 신경쓸일은 아닌거같네요 한국룸메랑 같이 비교하지마세요 ...          긍정\n",
      "49996  21130  캐릭터가 프린트된 제품인줄 알았는데 스티커임 손으로 조물조물 빨았는데 캐릭터들이 쪼...          부정\n",
      "49997   6788                          마지막에 마카롱으로 미키마우스만든거 넘귀엽다ㅋ          긍정\n",
      "49998  45946                    너무 멋진 친구를 두셨네요  작가님 함께 같이 살아갑시다          긍정\n",
      "49999   9159                          강려크하시니 오늘은 검색하지 않겟습니다. ㅋㅋ          긍정\n",
      "\n",
      "[50000 rows x 3 columns]\n"
     ]
    }
   ],
   "source": [
    "# 라벨 데이터\n",
    "LABELS = [\n",
    "    '불평/불만', '환영/호의', '감동/감탄', '지긋지긋', '고마움', '슬픔', '화남/분노', '존경', '기대감', '우쭐댐/무시함', \n",
    "    '안타까움/실망', '비장함', '의심/불신', '뿌듯함', '편안/쾌적', '신기함/관심', '아껴주는', '부끄러움', '공포/무서움', \n",
    "    '절망', '한심함', '역겨움/징그러움', '짜증', '어이없음', '없음', '패배/자기혐오', '귀찮음', '힘듦/지침', \n",
    "    '즐거움/신남', '깨달음', '죄책감', '증오/혐오', '흐뭇함(귀여움/예쁨)', '당황/난처', '경악', '부담/안내킴', \n",
    "    '서러움', '재미없음', '불쌍함/연민', '놀람', '행복', '불안/걱정', '기쁨', '안심/신뢰'\n",
    "]\n",
    "\n",
    "# 라벨 카테고리 매핑\n",
    "positive_labels = {'환영/호의', '감동/감탄', '고마움', '존경', '기대감', '비장함', '뿌듯함', '편안/쾌적', '신기함/관심', '아껴주는', '부끄러움', '즐거움/신남', '깨달음', '흐뭇함(귀여움/예쁨)', '행복', '기쁨', '안심/신뢰'}\n",
    "negative_labels = {'화남/분노', '안타까움/실망', '의심/불신', '한심함', '역겨움/징그러움', '짜증', '어이없음', '증오/혐오', '경악', '재미없음', '불평/불만', '지긋지긋'}\n",
    "neutral_labels = {'슬픔', '우쭐댐/무시함', '공포/무서움', '절망', '패배/자기혐오', '귀찮음', '힘듦/지침', '죄책감', '당황/난처', '부담/안내킴', '서러움', '불쌍함/연민', '놀람', '불안/걱정', '없음'}\n",
    "\n",
    "df = pd.DataFrame(data)\n",
    "\n",
    "# 라벨 문자열을 숫자 리스트로 변환\n",
    "def parse_labels(label_string):\n",
    "    return list(map(int, label_string.strip('[]').split()))\n",
    "\n",
    "# 라벨 인덱스를 이름으로 변환 후, 감정 분류\n",
    "def classify_sentiment(row):\n",
    "    label_string = row['labels']\n",
    "    labels = parse_labels(label_string)  # 라벨 문자열을 리스트로 변환\n",
    "    label_names = [LABELS[i] for i in labels]  # 라벨 인덱스로 라벨 이름 가져오기\n",
    "    \n",
    "    positive_count = sum(label in positive_labels for label in label_names)\n",
    "    negative_count = sum(label in negative_labels for label in label_names)\n",
    "    neutral_count = sum(label in neutral_labels for label in label_names)\n",
    "    \n",
    "    # 최종 라벨 결정\n",
    "    if positive_count > negative_count:\n",
    "        return '긍정'\n",
    "    elif negative_count > positive_count:\n",
    "        return '부정'\n",
    "    else:\n",
    "        return '중립'\n",
    "\n",
    "# 새로운 라벨 열 추가\n",
    "df['final_label'] = df.apply(classify_sentiment, axis=1)\n",
    "print(df[['ID', 'text', 'final_label']])"
   ]
  },
  {
   "cell_type": "code",
   "execution_count": 20,
   "metadata": {},
   "outputs": [
    {
     "name": "stdout",
     "output_type": "stream",
     "text": [
      "22542\n",
      "25172\n",
      "2286\n"
     ]
    }
   ],
   "source": [
    "print(len(df[df['final_label']=='긍정']))\n",
    "print(len(df[df['final_label']=='부정']))\n",
    "print(len(df[df['final_label']=='중립']))"
   ]
  },
  {
   "cell_type": "code",
   "execution_count": 25,
   "metadata": {},
   "outputs": [],
   "source": [
    "df.to_csv('data/kote_relabeled.csv')"
   ]
  },
  {
   "cell_type": "code",
   "execution_count": null,
   "metadata": {},
   "outputs": [],
   "source": []
  }
 ],
 "metadata": {
  "kernelspec": {
   "display_name": ".venv",
   "language": "python",
   "name": "python3"
  },
  "language_info": {
   "codemirror_mode": {
    "name": "ipython",
    "version": 3
   },
   "file_extension": ".py",
   "mimetype": "text/x-python",
   "name": "python",
   "nbconvert_exporter": "python",
   "pygments_lexer": "ipython3",
   "version": "3.10.13"
  }
 },
 "nbformat": 4,
 "nbformat_minor": 2
}
