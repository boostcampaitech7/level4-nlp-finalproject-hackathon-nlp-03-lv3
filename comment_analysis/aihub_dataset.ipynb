{
 "cells": [
  {
   "cell_type": "code",
   "execution_count": 1,
   "metadata": {},
   "outputs": [],
   "source": [
    "import pandas as pd\n",
    "\n",
    "xlsx = pd.read_excel('data/aihub_dataset.xlsx')\n",
    "xlsx.to_csv('data/aihub_dataset.csv')"
   ]
  },
  {
   "cell_type": "code",
   "execution_count": 3,
   "metadata": {},
   "outputs": [],
   "source": [
    "data = pd.read_csv('data/aihub_dataset.csv')\n",
    "data = data[['Sentence', 'Emotion']]"
   ]
  },
  {
   "cell_type": "code",
   "execution_count": 5,
   "metadata": {},
   "outputs": [],
   "source": [
    "def assign_label(emotion):\n",
    "    if emotion == '행복':\n",
    "        return '긍정'\n",
    "    elif emotion in ['분노', '혐오']:\n",
    "        return '부정'\n",
    "    else:\n",
    "        return '중립'\n",
    "\n",
    "data['Label'] = data['Emotion'].apply(assign_label)\n",
    "\n",
    "data.to_csv('data/aihub_relabeled.csv', index=False)"
   ]
  },
  {
   "cell_type": "code",
   "execution_count": 6,
   "metadata": {},
   "outputs": [
    {
     "name": "stdout",
     "output_type": "stream",
     "text": [
      "6037\n",
      "11094\n",
      "21463\n"
     ]
    }
   ],
   "source": [
    "print(len(data[data['Label']=='긍정']))\n",
    "print(len(data[data['Label']=='부정']))\n",
    "print(len(data[data['Label']=='중립']))"
   ]
  },
  {
   "cell_type": "code",
   "execution_count": null,
   "metadata": {},
   "outputs": [],
   "source": []
  }
 ],
 "metadata": {
  "kernelspec": {
   "display_name": ".venv",
   "language": "python",
   "name": "python3"
  },
  "language_info": {
   "codemirror_mode": {
    "name": "ipython",
    "version": 3
   },
   "file_extension": ".py",
   "mimetype": "text/x-python",
   "name": "python",
   "nbconvert_exporter": "python",
   "pygments_lexer": "ipython3",
   "version": "3.10.13"
  }
 },
 "nbformat": 4,
 "nbformat_minor": 2
}
